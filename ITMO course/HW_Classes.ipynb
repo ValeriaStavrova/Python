{
  "nbformat": 4,
  "nbformat_minor": 0,
  "metadata": {
    "kernelspec": {
      "display_name": "Python 3",
      "language": "python",
      "name": "python3"
    },
    "language_info": {
      "codemirror_mode": {
        "name": "ipython",
        "version": 3
      },
      "file_extension": ".py",
      "mimetype": "text/x-python",
      "name": "python",
      "nbconvert_exporter": "python",
      "pygments_lexer": "ipython3",
      "version": "3.7.4"
    },
    "colab": {
      "name": "HW 3_Classes.ipynb",
      "provenance": []
    }
  },
  "cells": [
    {
      "cell_type": "markdown",
      "metadata": {
        "id": "2YgE-2-QLihk"
      },
      "source": [
        "### Задание 1"
      ]
    },
    {
      "cell_type": "markdown",
      "metadata": {
        "id": "r375cGFkLihn"
      },
      "source": [
        "Постройте иерархию наследования для какого-нибудь набора объектов с нетривиальной структурой. Например, \n",
        "используйте для этого биологическую систематику живых организмов (см. Википедию); спуститесь в ней от класса \n",
        "«Живое» до конкретных видов. \n",
        "\n",
        "Полная систематика слишком большая, поэтому большую часть уровней и веток можно пропустить."
      ]
    },
    {
      "cell_type": "code",
      "metadata": {
        "id": "Myr3GpPGLihp"
      },
      "source": [
        "class Alive(object):\n",
        "    def __init__ (self):\n",
        "        pass \n",
        "    def breathe(self):\n",
        "        print(\"I CAN BREAAAAAATHE\")\n",
        "    def reproduce(self, other_alive):\n",
        "        print(\"Why don't we go to my place\")\n",
        "\n",
        "class Сellular(Alive):\n",
        "    def __init__(self):\n",
        "        super().__init__()\n",
        "\n",
        "class Animal(Сellular):\n",
        "    def __init__(self):\n",
        "        super().__init__()\n",
        "    def move(self):\n",
        "        print(\"*steps*\")\n",
        "\n",
        "class Multicell_animal(Animal):\n",
        "    def __init__(self):\n",
        "        super().__init__()\n",
        "\n",
        "class Сordate_animal(Multicell_animal):\n",
        "    def __init__(self):\n",
        "        super().__init__()\n",
        "        self.skeleton = 1\n",
        "        self.nervousystem = 1\n",
        "        self.weight = 1\n",
        "    def stress(self):\n",
        "        return self.nervousystem\n",
        "\n",
        "class Mammal(Сordate_animal):\n",
        "    def __init__(self):\n",
        "        super().__init__()\n",
        "    def drink_milk(self):\n",
        "        self.weight +=1\n",
        "        print(f\"Now weight is {self.weight}\")\n",
        "        \n",
        "class Carnivora(Mammal):\n",
        "    def __init__(self):\n",
        "        super().__init__()\n",
        "    def kill(self, other):\n",
        "            self.weight += other.weight\n",
        "            print(f\"Nice dinner. Now weight is {self.weight}\")\n",
        "\n",
        "class Felidae(Carnivora):\n",
        "    def __init__(self):\n",
        "        super().__init__()\n",
        "        self.size = 1\n",
        "    def meow(self):\n",
        "        print(\"Meeeeeeeow\")\n",
        "    def drink_milk(self):\n",
        "        self.weight +=5\n",
        "        print(self.weight)\n",
        "    \n",
        "class Felinae(Felidae):\n",
        "    def __init__(self):\n",
        "        super().__init__()\n",
        "        self.size = 0.5\n",
        "    def small_cats(self):\n",
        "        print(f\"I'm small: {self.size}\")\n",
        "\n",
        "class Felis(Felinae):\n",
        "    def __init__(self):\n",
        "        super().__init__()\n",
        "\n",
        "class Sphynx(Felis):\n",
        "    def __init__(self):\n",
        "        super().__init__()\n",
        "    def info(self):\n",
        "        print (\"I'm the owner of the Internet and people adore me\")\n",
        "    def stress(self):\n",
        "        return 0\n"
      ],
      "execution_count": null,
      "outputs": []
    },
    {
      "cell_type": "code",
      "metadata": {
        "id": "D9ZQPiiFLih2",
        "outputId": "b7556e57-eb43-4636-a5f6-653fd0a2ed44"
      },
      "source": [
        "Sphynx.mro()"
      ],
      "execution_count": null,
      "outputs": [
        {
          "output_type": "execute_result",
          "data": {
            "text/plain": [
              "[__main__.Sphynx,\n",
              " __main__.Felis,\n",
              " __main__.Felinae,\n",
              " __main__.Felidae,\n",
              " __main__.Carnivora,\n",
              " __main__.Mammal,\n",
              " __main__.Сordate_animal,\n",
              " __main__.Multicell_animal,\n",
              " __main__.Animal,\n",
              " __main__.Сellular,\n",
              " __main__.Alive,\n",
              " object]"
            ]
          },
          "metadata": {
            "tags": []
          },
          "execution_count": 2
        }
      ]
    },
    {
      "cell_type": "code",
      "metadata": {
        "id": "aTXoT_VDLiiC"
      },
      "source": [
        "kisa = Sphynx() "
      ],
      "execution_count": null,
      "outputs": []
    },
    {
      "cell_type": "code",
      "metadata": {
        "id": "6bw57HmCLiiN",
        "outputId": "278dd397-6363-4c4d-c190-41c2053851a4"
      },
      "source": [
        "kisa.breathe()"
      ],
      "execution_count": null,
      "outputs": [
        {
          "output_type": "stream",
          "text": [
            "I CAN BREAAAAAATHE\n"
          ],
          "name": "stdout"
        }
      ]
    },
    {
      "cell_type": "code",
      "metadata": {
        "id": "EctEFDQILiiX",
        "outputId": "a56db827-d680-46ee-a9ce-31c7af7e6c61"
      },
      "source": [
        "kisa.move()"
      ],
      "execution_count": null,
      "outputs": [
        {
          "output_type": "stream",
          "text": [
            "*steps*\n"
          ],
          "name": "stdout"
        }
      ]
    },
    {
      "cell_type": "code",
      "metadata": {
        "id": "F0ZV4izILiii",
        "outputId": "44d6f363-d9da-4dec-fe3b-bf0869cfff8d"
      },
      "source": [
        "kisa.stress()"
      ],
      "execution_count": null,
      "outputs": [
        {
          "output_type": "execute_result",
          "data": {
            "text/plain": [
              "0"
            ]
          },
          "metadata": {
            "tags": []
          },
          "execution_count": 6
        }
      ]
    },
    {
      "cell_type": "code",
      "metadata": {
        "id": "P9gWkoieLiis",
        "outputId": "a6a296b5-f0a6-4a55-a002-bb1aa4c2fd2d"
      },
      "source": [
        "kisa.skeleton"
      ],
      "execution_count": null,
      "outputs": [
        {
          "output_type": "execute_result",
          "data": {
            "text/plain": [
              "1"
            ]
          },
          "metadata": {
            "tags": []
          },
          "execution_count": 7
        }
      ]
    },
    {
      "cell_type": "code",
      "metadata": {
        "id": "X0OHvmE1Lii4",
        "outputId": "17de2525-b756-43ca-8efb-fd7ff7ae3132"
      },
      "source": [
        "kisa.drink_milk()"
      ],
      "execution_count": null,
      "outputs": [
        {
          "output_type": "stream",
          "text": [
            "6\n"
          ],
          "name": "stdout"
        }
      ]
    },
    {
      "cell_type": "code",
      "metadata": {
        "id": "JEISOVxFLijC",
        "outputId": "d86be85b-8de8-4648-f2be-0c5f88e7c6df"
      },
      "source": [
        "bird = Сordate_animal()\n",
        "bird.weight"
      ],
      "execution_count": null,
      "outputs": [
        {
          "output_type": "execute_result",
          "data": {
            "text/plain": [
              "1"
            ]
          },
          "metadata": {
            "tags": []
          },
          "execution_count": 9
        }
      ]
    },
    {
      "cell_type": "code",
      "metadata": {
        "id": "V4slbHmsLijM",
        "outputId": "8c3716c8-30d7-4907-ce21-aa032508358a"
      },
      "source": [
        "kisa.kill(bird)"
      ],
      "execution_count": null,
      "outputs": [
        {
          "output_type": "stream",
          "text": [
            "Nice dinner. Now weight is 7\n"
          ],
          "name": "stdout"
        }
      ]
    },
    {
      "cell_type": "code",
      "metadata": {
        "id": "wmvy4BciLijW",
        "outputId": "d8bd57e8-720b-48b3-c8e2-469afd7640bf"
      },
      "source": [
        "kisa.small_cats()"
      ],
      "execution_count": null,
      "outputs": [
        {
          "output_type": "stream",
          "text": [
            "I'm small: 0.5\n"
          ],
          "name": "stdout"
        }
      ]
    },
    {
      "cell_type": "code",
      "metadata": {
        "id": "6BPcYM93Lijg",
        "outputId": "29e5f964-bc98-4a6f-c139-0d4a7f43ab80"
      },
      "source": [
        "kisa.info()"
      ],
      "execution_count": null,
      "outputs": [
        {
          "output_type": "stream",
          "text": [
            "I'm the owner of the Internet and people adore me\n"
          ],
          "name": "stdout"
        }
      ]
    },
    {
      "cell_type": "markdown",
      "metadata": {
        "id": "Tmaq94WTLijr"
      },
      "source": [
        "### Задание 2"
      ]
    },
    {
      "cell_type": "markdown",
      "metadata": {
        "id": "B9LW2gkfLiju"
      },
      "source": [
        "Реализуйте класс «n-мерный» вектор. У этого класса должны быть определены все естественные для вектора операции:\n",
        "- сложение\n",
        "- вычитание\n",
        "- умножение на константу\n",
        "- скалярное произведение\n",
        "- сравнение на равенство\n",
        "\n",
        "а также операции \n",
        "- вычисления длины\n",
        "- получение элемента по индексу \n",
        "- и строковое представление. \n",
        "\n",
        "Во всех операциях можно считать, что все передаваемые аргументы корректны."
      ]
    },
    {
      "cell_type": "code",
      "metadata": {
        "id": "kk1EAvNoLijw"
      },
      "source": [
        "import math\n",
        "\n",
        "class Vector(object):\n",
        "    \n",
        "    def __init__(self, *args):\n",
        "        self.values = args\n",
        "        \n",
        "    def __add__(self, other):\n",
        "        res = tuple(i + j for i, j in zip(self.values, other.values))\n",
        "        return Vector(*res)\n",
        "\n",
        "    def __sub__(self, other):\n",
        "        res = tuple(i - j for i, j in zip(self.values, other.values))\n",
        "        return Vector(*res)\n",
        "    \n",
        "    def __mul__(self, x):\n",
        "        res = tuple(i * x for i in self.values)\n",
        "        return Vector(*res)\n",
        "    \n",
        "    def scalar(self, other):\n",
        "        return sum(i * j for i, j in zip(self.values, other.values))\n",
        "        \n",
        "    def __eq__(self, other):\n",
        "        for i, j in zip(self.values, other.values):\n",
        "            if i != j:\n",
        "                return False\n",
        "            return True\n",
        "            \n",
        "    def __repr__(self):\n",
        "        return str(self.values)\n",
        "    \n",
        "    def __getitem__(self, key):\n",
        "        return self.values[key]\n",
        "    \n",
        "    def __setitem__(self, key, value):\n",
        "        self.values[key] = value\n",
        "    \n",
        "    def __len__(self):\n",
        "        return math.sqrt(sum(i **2 for i in self.values))\n"
      ],
      "execution_count": null,
      "outputs": []
    },
    {
      "cell_type": "markdown",
      "metadata": {
        "id": "CGcf6e8ULikG"
      },
      "source": [
        "### Задание 3"
      ]
    },
    {
      "cell_type": "markdown",
      "metadata": {
        "id": "qunK-2_WLikI"
      },
      "source": [
        "Дано некоторое множество объектов X и натуральное число n. Необходимо перебрать все элементы в множестве X^n (декартово произведение). \n",
        "\n",
        "Например, если $X = \\{1, a\\}$, то $X^2$ содержит такие элементы: (1, 1), (1, a), (a, 1), (a, a).\n",
        "\n",
        "Для этого напишите класс, экземпляры которого соответствую элементам этого множества, и у которых есть методы для получения текущего элемента, и замены текущего элемента на «следующий». \n",
        "\n",
        "Следующий элемент выбирайте таким образом, чтобы при последовательном применении этого метода можно было получить все элементы множества. Не забудьте добавить возможность зацикливания, если этот метод вызывается более $|X|^n$ раз.\n",
        "\n",
        "_Примечание_. Для определенности считайте, что множество $X$ задается списком (то есть на элементах есть порядок), но в нем все элементы уникальны."
      ]
    },
    {
      "cell_type": "code",
      "metadata": {
        "id": "ymQlQ1DILikK"
      },
      "source": [
        "class X(object):\n",
        "    def __init__(self, m, n, ind = None):\n",
        "        self.ind = ind or tuple(0 for _ in range(n))\n",
        "        self.m = m\n",
        "        \n",
        "    \n",
        "    def next(self):\n",
        "        next_idx = self.__next_index(self.ind)\n",
        "        return X(self.m, len(self.ind), next_idx)\n",
        "    \n",
        "    def __next_index(self, ind):\n",
        "        n = len(self.m)\n",
        "        \n",
        "        l = list(reversed(list(ind)))\n",
        "        idx = 0\n",
        "        while True:\n",
        "            if idx >= len(l):\n",
        "                return tuple(_ for _ in l)\n",
        "            current = l[idx]\n",
        "            l[idx] = (current + 1) % n\n",
        "            idx += 1\n",
        "            \n",
        "            if current + 1 < n:\n",
        "                break\n",
        "            \n",
        "        return tuple(reversed(l))\n",
        "        \n",
        "    def total_length(self):\n",
        "        return len(self.m) ** len(self.ind)\n",
        "    \n",
        "    def __str__(self):\n",
        "        result = \", \".join(str(self.m[i]) for i in self.ind)\n",
        "        return f\"Object: ({result})\""
      ],
      "execution_count": null,
      "outputs": []
    },
    {
      "cell_type": "code",
      "metadata": {
        "id": "eGM3R68CLikS",
        "outputId": "199490c1-5769-4714-ca76-3d3a105378f8"
      },
      "source": [
        "n = 3\n",
        "cur = X([1, 'a'], n)\n",
        "length = cur.total_length()\n",
        "print(length)\n",
        "for i in range(length + 1):\n",
        "    print(cur)\n",
        "    cur = cur.next()"
      ],
      "execution_count": null,
      "outputs": [
        {
          "output_type": "stream",
          "text": [
            "8\n",
            "Object: (1, 1, 1)\n",
            "Object: (1, 1, a)\n",
            "Object: (1, a, 1)\n",
            "Object: (1, a, a)\n",
            "Object: (a, 1, 1)\n",
            "Object: (a, 1, a)\n",
            "Object: (a, a, 1)\n",
            "Object: (a, a, a)\n",
            "Object: (1, 1, 1)\n"
          ],
          "name": "stdout"
        }
      ]
    }
  ]
}
