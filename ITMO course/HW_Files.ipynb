{
  "nbformat": 4,
  "nbformat_minor": 0,
  "metadata": {
    "kernelspec": {
      "display_name": "Python 3",
      "language": "python",
      "name": "python3"
    },
    "language_info": {
      "codemirror_mode": {
        "name": "ipython",
        "version": 3
      },
      "file_extension": ".py",
      "mimetype": "text/x-python",
      "name": "python",
      "nbconvert_exporter": "python",
      "pygments_lexer": "ipython3",
      "version": "3.7.4"
    },
    "colab": {
      "name": "HW_Files.ipynb",
      "provenance": []
    }
  },
  "cells": [
    {
      "cell_type": "markdown",
      "metadata": {
        "id": "giyONB8aMcK5"
      },
      "source": [
        "Во всех заданиях необходимо написать функцию (или несколько, можно даже класс, но не просто ячейку с кодом)"
      ]
    },
    {
      "cell_type": "markdown",
      "metadata": {
        "id": "ZN03FQpXMcK_"
      },
      "source": [
        "### 1\n",
        "В файле (`dict.txt`) находится англо-латинский словарь, то есть список слов на английском языке и их переводы на латинский язык (переводов может быть несколько). Необходимо создать из него латино-английский словарь. Например, из словаря\n",
        "```\n",
        "apple - malum, pomum, popula\n",
        "fruit - baca, bacca, popum\n",
        "punishment - malum, multa\n",
        "```\n",
        "нужно сделать словарь.\n",
        "\n",
        "```\n",
        "baca - fruit\n",
        "bacca - fruit\n",
        "malum - apple, punishment\n",
        "multa - punishment\n",
        "pomum - apple\n",
        "popula - apple\n",
        "popum - fruit\n",
        "```\n",
        "\n",
        "Не забудьте, что слова нужно расположить в алфавитном порядке.\n",
        "\n",
        "Поощряется использование `collections.defaultdict`\n"
      ]
    },
    {
      "cell_type": "code",
      "metadata": {
        "id": "RxxMoifmMcLB"
      },
      "source": [
        "from collections import defaultdict\n",
        "\n",
        "#! Лучше не давать уже используемые имена аргументам/переменным и пр. Например, str -- это\n",
        "#! тип данных, и теперь внутри transform_dict он недоступен\n",
        "def transform_dict(str):\n",
        "    #read_dict\n",
        "    dictionary = {}\n",
        "    with open(str, \"r\") as file:\n",
        "        for line in file:\n",
        "            l = line.replace(\" \", \"\").strip().partition(\"-\")\n",
        "            dictionary[l[0]] = list((l[2].split(\",\")))\n",
        "\n",
        "    #invert_dict    \n",
        "    newdict = defaultdict(list)\n",
        "    for k, v in dictionary.items():\n",
        "        for w in v:\n",
        "            newdict[w].append(k)\n",
        "    \n",
        "    #! Тут стоило совсем словарь полноценный вернуть, в остальном ок:\n",
        "    #    return sorted(newdict.items(), key=lambda t: t[0])\n",
        "    return dict(sorted(newdict.items(), key=lambda t: t[0]))"
      ],
      "execution_count": null,
      "outputs": []
    },
    {
      "cell_type": "code",
      "metadata": {
        "id": "wPbdBw-hMcLM",
        "outputId": "2ce3eaab-f1a4-4f3d-e360-db95796aeda8"
      },
      "source": [
        "transform_dict(\"dict.txt\")"
      ],
      "execution_count": null,
      "outputs": [
        {
          "output_type": "execute_result",
          "data": {
            "text/plain": [
              "{'baca': ['fruit'],\n",
              " 'bacca': ['fruit'],\n",
              " 'malum': ['apple', 'punishment'],\n",
              " 'multa': ['punishment'],\n",
              " 'pomum': ['apple'],\n",
              " 'popula': ['apple'],\n",
              " 'popum': ['fruit']}"
            ]
          },
          "metadata": {
            "tags": []
          },
          "execution_count": 2
        }
      ]
    },
    {
      "cell_type": "markdown",
      "metadata": {
        "id": "zIzgqoFLMcLY"
      },
      "source": [
        "### 2\n",
        "\n",
        "Напишите программу, которая выписывает список файлов в данной директории и сортирует их в соответствии с их размером. Программа должна просить пользователя ввести путь к директории и печатать на экран имена всех файлов в ней и их размеры, причем первыми должны идти файлы с наибольшими размерами, а в случае одинакового размер файлы сортируются по алфавиту.\n",
        "\n",
        "_Указание. Изучите функции `listdir` и `stat` из модуля `os` и функции `isfile` и `join` из модуля `os.path`._"
      ]
    },
    {
      "cell_type": "code",
      "metadata": {
        "id": "kFYhoUF4McLa"
      },
      "source": [
        "import os\n",
        "\n",
        "def show_dir():\n",
        "\n",
        "    files = os.listdir(str(input(\"Введите путь к директории\")))\n",
        "    files.sort(key = lambda f: os.stat(f).st_size, reverse=True)\n",
        "    for i in files:\n",
        "        if os.path.isfile(i):\n",
        "            print(f'{i}, {os.stat(i).st_size}')"
      ],
      "execution_count": null,
      "outputs": []
    },
    {
      "cell_type": "code",
      "metadata": {
        "id": "zBF_lDRgMcLk",
        "outputId": "1f4c0787-39ca-43ed-d392-1a8f6de6b7b9"
      },
      "source": [
        "show_dir()"
      ],
      "execution_count": null,
      "outputs": [
        {
          "output_type": "stream",
          "text": [
            "Введите путь к директорииC:\\Users\\Adm\n",
            "NTUSER.DAT, 4456448\n",
            "task.tsv, 2971797\n",
            "train.tsv, 2864505\n",
            "Workshop on graphs.ipynb, 1234920\n",
            "ntuser.dat.LOG2, 1196032\n",
            "ntuser.dat.LOG1, 1048576\n",
            "pi.txt, 1020002\n",
            "subcluster.gexf, 560986\n",
            "NTUSER.DAT{cd501b19-f032-11e9-99c7-86ed1f9a9c6e}.TMContainer00000000000000000001.regtrans-ms, 524288\n",
            "NTUSER.DAT{cd501b19-f032-11e9-99c7-86ed1f9a9c6e}.TMContainer00000000000000000002.regtrans-ms, 524288\n",
            "rt_russian.csv, 226227\n",
            "Lecture-Numpy.ipynb, 180710\n",
            "nlp lab 3 Stavrova.ipynb, 69524\n",
            "NLP-lab-1.ipynb, 69504\n",
            "NTUSER.DAT{cd501b19-f032-11e9-99c7-86ed1f9a9c6e}.TM.blf, 65536\n",
            "titanic_train.csv, 61194\n",
            "submission.csv, 55284\n",
            "HW 3 Stavrova fixed.ipynb, 18806\n",
            "HW 1 Stavrova.ipynb, 17956\n",
            "HW 3 Stavrova .ipynb, 17447\n",
            "HW 3 Stavrova  (1).ipynb, 16973\n",
            "HW 2 Stavrova fixed part 2.ipynb, 16566\n",
            "HW 5 Stavrova fixed.ipynb, 15550\n",
            "HW 5 Stavrova.ipynb, 14301\n",
            "Untitled.ipynb, 12647\n",
            "Stepik1.ipynb, 11600\n",
            "HW 2 Stavrova FINAL.ipynb, 10807\n",
            "Intro.ipynb, 10434\n",
            "HW 4 Stavrova.ipynb, 8776\n",
            "nlp 2 lab Stavrova.ipynb, 6535\n",
            "ngram.py, 3796\n",
            "hw6.ipynb, 3238\n",
            "hw 4.ipynb, 2498\n",
            "dict.txt, 82\n",
            ".condarc, 43\n",
            "ntuser.ini, 20\n",
            "untitled.txt, 0\n"
          ],
          "name": "stdout"
        }
      ]
    },
    {
      "cell_type": "markdown",
      "metadata": {
        "id": "mDHqAwYNMcL2"
      },
      "source": [
        "### 3\n",
        "\n",
        "Напишите программу, которая находит любую последовательность цифр в знаках десятичной записи числа π. \n",
        "\n",
        "В файле pi.txt, который приложен к заданию, выписаны первый 1 миллион знаков этой записи. \n",
        "\n",
        "Программа должна загружать этот файл, считывать с клавиатуры последовательность цифр и находить все вхождения этой последовательность (номера первого знака). Так как вхождений может быть очень много, на экран должно выводиться только количество этих вхождений и первые 5 из них. Ниже приведены примеры работы с такой программой в консоли (количество найденных последовательностей может отличаться):\n",
        "\n",
        "```\n",
        "Enter sequence to search for.\n",
        "> 123\n",
        "Found 4185 results.\n",
        "Positions: 1923 2937 2975 3891 6547 ...\n",
        "\n",
        "Enter sequence to search for.\n",
        "> 1415\n",
        "Found 424 results.\n",
        "Positions: 0 6954 29135 45233 79686 ...\n",
        "```\n",
        "\n",
        "Указание. Вспомните про функцию `str.find`."
      ]
    },
    {
      "cell_type": "code",
      "metadata": {
        "id": "iPTWsmfkMcL4"
      },
      "source": [
        "def pi():\n",
        "    f = open(\"pi.txt\", \"r\") \n",
        "    file = f.read()\n",
        "    term = str(input(\"Enter sequence to search for.\"))\n",
        "    count = file.count(term)\n",
        "    ind = []\n",
        "    i = 0\n",
        "    while i < len(file):\n",
        "        i = file.find(term, i)\n",
        "        if i == - 1:\n",
        "            break\n",
        "        else:\n",
        "            ind.append(i)\n",
        "            i += len(term)\n",
        "    print(f\"Found {count} results.\")\n",
        "    \n",
        "    print(f\"Positions: {ind[0:5]}...\")"
      ],
      "execution_count": null,
      "outputs": []
    },
    {
      "cell_type": "code",
      "metadata": {
        "id": "KMj25MSCMcME",
        "outputId": "61b89efe-9e81-441d-c2bb-cb20b4d7c9ed"
      },
      "source": [
        "pi()"
      ],
      "execution_count": null,
      "outputs": [
        {
          "output_type": "stream",
          "text": [
            "Enter sequence to search for.1415\n",
            "Found 89 results.\n",
            "Positions: [3, 7096, 29720, 46140, 81282]...\n"
          ],
          "name": "stdout"
        }
      ]
    },
    {
      "cell_type": "markdown",
      "metadata": {
        "id": "OXfviylZMcMP"
      },
      "source": [
        "### 4\n",
        "Дана строка. Если ее длина по крайней мере 3, добавьте в конец 'ing', кроме случая, когда строка уже заканчивается на 'ing'.\n",
        "В этом случае добавьте в конец 'ly' вместо 'ing'. Если длина стркои меньше 3, верните ее неизменной.\n",
        "Функция возвращает строку-результат."
      ]
    },
    {
      "cell_type": "code",
      "metadata": {
        "id": "ESGjAyIFMcMQ"
      },
      "source": [
        "def change_str(str):\n",
        "    if len(str) >= 3:\n",
        "        if str.endswith(\"ing\"):\n",
        "            return str.rstrip(\"ing\") + \"ly\"\n",
        "        else: \n",
        "            return str + \"ing\"\n",
        "    else:\n",
        "        return str"
      ],
      "execution_count": null,
      "outputs": []
    },
    {
      "cell_type": "code",
      "metadata": {
        "id": "kPFSTyahMcMZ",
        "outputId": "f0a4a684-5957-4e7b-c0dd-4deaf59e4c05"
      },
      "source": [
        "change_str(\"bling\")"
      ],
      "execution_count": null,
      "outputs": [
        {
          "output_type": "execute_result",
          "data": {
            "text/plain": [
              "'blly'"
            ]
          },
          "metadata": {
            "tags": []
          },
          "execution_count": 16
        }
      ]
    },
    {
      "cell_type": "markdown",
      "metadata": {
        "id": "uzq5fBO_McMg"
      },
      "source": [
        "### 5\n",
        "\n",
        "Дана строка, найдите первые вхождения подстрок not и bad.\n",
        "Если bad следует за not, замените всю подстроку not ... bad строкой good, иначе оставьте строку неизменной.\n",
        "Функция возвращает строку-результат."
      ]
    },
    {
      "cell_type": "code",
      "metadata": {
        "id": "nS-4TXAkMcMh"
      },
      "source": [
        "def transform_str(x):\n",
        "    n = x.find(\"not\")\n",
        "    b = x.find(\"bad\")\n",
        "    if n != -1 and b > n:\n",
        "        return x[:n] + \"good\" + x[b + 3:]\n",
        "    else:\n",
        "        return x"
      ],
      "execution_count": null,
      "outputs": []
    },
    {
      "cell_type": "code",
      "metadata": {
        "id": "QMtCBqSZMcMm",
        "outputId": "a7e04dad-d4a7-41af-f591-d3d8953c6d9e"
      },
      "source": [
        "transform_str(\"it's not obvious that it was bad\")\n"
      ],
      "execution_count": null,
      "outputs": [
        {
          "output_type": "execute_result",
          "data": {
            "text/plain": [
              "\"it's good\""
            ]
          },
          "metadata": {
            "tags": []
          },
          "execution_count": 10
        }
      ]
    },
    {
      "cell_type": "markdown",
      "metadata": {
        "id": "gwSH_nKtMcM1"
      },
      "source": [
        "### 6\n",
        "Написать упрощенный вариант утилиты `nl` - функцию, которая выдает в `stdout` пронумерованные строки из файла.\n",
        "\n",
        "Если путь к файл не передан, то `nl` читает строки из stdin.\n",
        "\n",
        "Функция должна работать так же, как \n",
        "\n",
        "```\n",
        "nl -b a\n",
        "```\n",
        "\n",
        "Т.е. для файла вида \n",
        "```\n",
        "smth\n",
        "smth\n",
        "smth\n",
        "smth\n",
        "smth\n",
        "```\n",
        "\n",
        "должно быть выведено\n",
        "```\n",
        "     1\tsmth\n",
        "     2\tsmth\n",
        "     3\tsmth\n",
        "     4\tsmth\n",
        "     5\tsmth\n",
        "```"
      ]
    },
    {
      "cell_type": "code",
      "metadata": {
        "id": "GQ5sQNGWMcM2"
      },
      "source": [
        "import os\n",
        "\n",
        "def nl():\n",
        "    lines = 0\n",
        "    f = str(input())\n",
        "    if os.path.exists(f): \n",
        "        file = open(f)\n",
        "        for line in file:\n",
        "            lines +=1\n",
        "            print(lines, line)\n",
        "    else:\n",
        "        while f:\n",
        "            lines +=1\n",
        "            print(lines, f)\n",
        "            f = str(input())\n",
        "            "
      ],
      "execution_count": null,
      "outputs": []
    }
  ]
}