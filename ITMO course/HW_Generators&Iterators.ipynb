{
  "nbformat": 4,
  "nbformat_minor": 0,
  "metadata": {
    "kernelspec": {
      "display_name": "Python 3",
      "language": "python",
      "name": "python3"
    },
    "language_info": {
      "codemirror_mode": {
        "name": "ipython",
        "version": 3
      },
      "file_extension": ".py",
      "mimetype": "text/x-python",
      "name": "python",
      "nbconvert_exporter": "python",
      "pygments_lexer": "ipython3",
      "version": "3.7.4"
    },
    "colab": {
      "name": "HW_Generators&Iterators.ipynb",
      "provenance": []
    }
  },
  "cells": [
    {
      "cell_type": "markdown",
      "metadata": {
        "id": "rpY-nERGNW2a"
      },
      "source": [
        "### 1\n",
        "\n",
        "Напишите менеджер контекста, который позволит засекать время выполнения блока кода с помощью конструкции\n",
        "with и выводить это время на экран по выходу из блока.\n",
        "\n",
        "Пример использования:\n",
        "```python\n",
        ">>> import time\n",
        "\n",
        ">>> def do_some_long_stuff():\n",
        "...     time.sleep(10)\n",
        "...\n",
        "\n",
        ">>> with Timer():\n",
        "...     do_some_long_stuff()\n",
        "...   \n",
        "    \n",
        "Time elapsed:  10.002187691999978\n",
        "```"
      ]
    },
    {
      "cell_type": "code",
      "metadata": {
        "id": "CeillAvyNW2v"
      },
      "source": [
        "class Timer:\n",
        "    \n",
        "    def __enter__(self):\n",
        "        self.start = time.perf_counter()\n",
        "\n",
        "    def __exit__(self, *args):\n",
        "        self.end = time.perf_counter()\n",
        "        elapsed = self.end - self.start\n",
        "        print(f\"Time elapsed {elapsed}\")"
      ],
      "execution_count": null,
      "outputs": []
    },
    {
      "cell_type": "code",
      "metadata": {
        "id": "b6fD3EFFNW29",
        "outputId": "10d4b0f0-1e7a-4821-9273-07f38ab4ee12"
      },
      "source": [
        "import time\n",
        "\n",
        "def do_some_long_stuff():\n",
        "     time.sleep(10)\n",
        "\n",
        "with Timer():\n",
        "     do_some_long_stuff()  "
      ],
      "execution_count": null,
      "outputs": [
        {
          "output_type": "stream",
          "text": [
            "Time elapsed 9.999601299999995\n"
          ],
          "name": "stdout"
        }
      ]
    },
    {
      "cell_type": "markdown",
      "metadata": {
        "id": "dJdVNqz0NW3I"
      },
      "source": [
        "### 2\n",
        "Напишите генератор, который принимает на вход две неубывающие последовательности и выдает одну объединенную\n",
        "неубывающую последовательность (аналогично merge из первого дз).\n",
        "\n",
        "_Примечание: Последовательность -- любой объект, по которому можно проитерироваться._"
      ]
    },
    {
      "cell_type": "code",
      "metadata": {
        "id": "ek5kp0MjNW3U"
      },
      "source": [
        "def merge(itr1, itr2):\n",
        "    \n",
        "    itr1, itr2 = iter(itr1), iter(itr2)\n",
        "    \n",
        "    i1 = next(itr1, None)\n",
        "    i2 = next(itr2, None)\n",
        "    \n",
        "    while i1 is not None and i2 is not None:\n",
        "        if i1 < i2:\n",
        "            yield i1\n",
        "            i1 = next(itr1, None)\n",
        "        else:\n",
        "            yield i2\n",
        "            i2 = next(itr2, None)\n",
        "    if i1 is not None:\n",
        "        yield i1\n",
        "    if i2 is not None:\n",
        "        yield i2\n",
        "    yield from itr1\n",
        "    yield from itr2"
      ],
      "execution_count": null,
      "outputs": []
    },
    {
      "cell_type": "code",
      "metadata": {
        "id": "6HvDZC4INW3e",
        "outputId": "99f73b12-4b7e-4100-e668-aa469e1268c7"
      },
      "source": [
        "list(merge((1,2,4,6,7,9), (3,5,8)))"
      ],
      "execution_count": null,
      "outputs": [
        {
          "output_type": "execute_result",
          "data": {
            "text/plain": [
              "[1, 2, 3, 4, 5, 6, 7, 8, 9]"
            ]
          },
          "metadata": {
            "tags": []
          },
          "execution_count": 27
        }
      ]
    },
    {
      "cell_type": "code",
      "metadata": {
        "id": "4ViJwG2wNW3n",
        "outputId": "d8e3f75c-7f27-43ab-a3f7-96f1989341fe"
      },
      "source": [
        "list(merge('adfho', 'beht'))"
      ],
      "execution_count": null,
      "outputs": [
        {
          "output_type": "execute_result",
          "data": {
            "text/plain": [
              "['a', 'b', 'd', 'e', 'f', 'h', 'h', 'o', 't']"
            ]
          },
          "metadata": {
            "tags": []
          },
          "execution_count": 28
        }
      ]
    },
    {
      "cell_type": "markdown",
      "metadata": {
        "id": "-Umfxu3tNW3z"
      },
      "source": [
        "### 3\n",
        "Создайте собственный класс-итератор, который в качестве параметра конструктора принимает на вход число N и итерируется\n",
        "по N случайным числам."
      ]
    },
    {
      "cell_type": "code",
      "metadata": {
        "id": "PhLXYOekNW31"
      },
      "source": [
        "import random\n",
        "\n",
        "class Itr:\n",
        "    def __init__(self, n):\n",
        "        self.max = n\n",
        "        self.id = 0\n",
        "    def __iter__(self):\n",
        "        return self\n",
        "    def __next__(self):\n",
        "        if self.id >= self.max:\n",
        "            raise StopIteration\n",
        "        self.id += 1\n",
        "        ran = random.randint(0, self.max)\n",
        "        return ran"
      ],
      "execution_count": null,
      "outputs": []
    },
    {
      "cell_type": "code",
      "metadata": {
        "id": "BNtLfyrZNW39",
        "outputId": "3d5d8741-af29-4621-8b41-0c48465c958e"
      },
      "source": [
        "a = Itr(10)\n",
        "for i in a:\n",
        "    print(i)"
      ],
      "execution_count": null,
      "outputs": [
        {
          "output_type": "stream",
          "text": [
            "3\n",
            "3\n",
            "7\n",
            "9\n",
            "4\n",
            "10\n",
            "7\n",
            "10\n",
            "10\n",
            "4\n"
          ],
          "name": "stdout"
        }
      ]
    },
    {
      "cell_type": "markdown",
      "metadata": {
        "id": "SPkRmm55NW4H"
      },
      "source": [
        "### 4\n",
        "Напишите генератор filter, который принимает предикат и последовательность и выдает последовательность, в которой отсутствуют элементы, для которых предикат истенен (аналогично встроенной функции `filter`)"
      ]
    },
    {
      "cell_type": "code",
      "metadata": {
        "id": "TgaSPSSANW4R"
      },
      "source": [
        "def filter1(predicate, iterable):\n",
        "    for i in iterable:\n",
        "        if i not in predicate :\n",
        "            yield i\n",
        "            \n",
        "def filter2(predicate, iterable):\n",
        "    for i in iterable:\n",
        "        if not predicate(i):\n",
        "            yield i"
      ],
      "execution_count": 3,
      "outputs": []
    },
    {
      "cell_type": "code",
      "metadata": {
        "id": "Jk0yQ0piNW4Z",
        "outputId": "2a12cdd6-0f0f-4c34-cd72-00795a3d8182",
        "colab": {
          "base_uri": "https://localhost:8080/",
          "height": 34
        }
      },
      "source": [
        "list(filter1([5,6,7,8], range(0,15)))"
      ],
      "execution_count": 4,
      "outputs": [
        {
          "output_type": "execute_result",
          "data": {
            "text/plain": [
              "[0, 1, 2, 3, 4, 9, 10, 11, 12, 13, 14]"
            ]
          },
          "metadata": {
            "tags": []
          },
          "execution_count": 4
        }
      ]
    },
    {
      "cell_type": "code",
      "metadata": {
        "id": "qv0oBMKPNW4k",
        "outputId": "ca13bc9b-0ec6-4d27-cc8e-dbe438301771"
      },
      "source": [
        "list(filter2(lambda x: x % 2 == 0, range(0,15)))"
      ],
      "execution_count": null,
      "outputs": [
        {
          "output_type": "execute_result",
          "data": {
            "text/plain": [
              "[1, 3, 5, 7, 9, 11, 13]"
            ]
          },
          "metadata": {
            "tags": []
          },
          "execution_count": 56
        }
      ]
    },
    {
      "cell_type": "markdown",
      "metadata": {
        "id": "_vpkvA4BNW4p"
      },
      "source": [
        "### 5\n",
        "Напишите функцию-генератор факториалов, которая принимает принимает на вход n - максимальное число, для которого может вычислить факториал (n!).\n",
        "\n",
        "Например:\n",
        "```python\n",
        ">>> f10 = fact_generator(10)\n",
        "\n",
        ">>> next(f10)\n",
        "1\n",
        "\n",
        ">>> next(f10) \n",
        "2\n",
        "\n",
        ">>> next(f10)\n",
        "6\n",
        "```\n"
      ]
    },
    {
      "cell_type": "code",
      "metadata": {
        "id": "HlOqCDWRNW4v"
      },
      "source": [
        "def fact_generator(n):\n",
        "    fact = 1\n",
        "    for i in range(2, n + 1):\n",
        "        yield fact\n",
        "        fact *= i "
      ],
      "execution_count": null,
      "outputs": []
    },
    {
      "cell_type": "code",
      "metadata": {
        "id": "o6NOQTt7NW4z"
      },
      "source": [
        "f10 = fact_generator(10)"
      ],
      "execution_count": null,
      "outputs": []
    },
    {
      "cell_type": "code",
      "metadata": {
        "id": "6riPiAleNW44",
        "outputId": "22d5ea9a-33b6-4f21-c6a4-6a9ead28981a"
      },
      "source": [
        "list(f10)"
      ],
      "execution_count": null,
      "outputs": [
        {
          "output_type": "execute_result",
          "data": {
            "text/plain": [
              "[1, 2, 6, 24, 120, 720, 5040, 40320, 362880]"
            ]
          },
          "metadata": {
            "tags": []
          },
          "execution_count": 70
        }
      ]
    }
  ]
}