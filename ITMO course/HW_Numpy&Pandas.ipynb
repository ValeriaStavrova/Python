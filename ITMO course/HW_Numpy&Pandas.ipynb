{
  "nbformat": 4,
  "nbformat_minor": 0,
  "metadata": {
    "anaconda-cloud": {},
    "kernelspec": {
      "display_name": "Python 3",
      "language": "python",
      "name": "python3"
    },
    "language_info": {
      "codemirror_mode": {
        "name": "ipython",
        "version": 3
      },
      "file_extension": ".py",
      "mimetype": "text/x-python",
      "name": "python",
      "nbconvert_exporter": "python",
      "pygments_lexer": "ipython3",
      "version": "3.7.4"
    },
    "colab": {
      "name": "HW_Numpy&Pandas.ipynb",
      "provenance": []
    }
  },
  "cells": [
    {
      "cell_type": "code",
      "metadata": {
        "id": "2MlJShzZOW9y"
      },
      "source": [
        "%matplotlib inline"
      ],
      "execution_count": null,
      "outputs": []
    },
    {
      "cell_type": "markdown",
      "metadata": {
        "id": "iyU7UrLcOW-C"
      },
      "source": [
        "### NumPy \n",
        "\n",
        "Во всех заданиях данного раздела запрещено использовать циклы. Под матрицей в данных заданиях понимается двумерный numpy.array."
      ]
    },
    {
      "cell_type": "code",
      "metadata": {
        "id": "az5n4KB6OW-F"
      },
      "source": [
        "import numpy as np"
      ],
      "execution_count": null,
      "outputs": []
    },
    {
      "cell_type": "markdown",
      "metadata": {
        "id": "BJhnycxhOW-P"
      },
      "source": [
        "**1.** Реализуйте функцию, принимающую на вход матрицу X и два массива i и j одинаковой длины и возвращающую вектор np.array, состоящий из последовательности элементов [X[i[0], j[0]], X[i[1], j[1]], ..., X[i[N-1], j[N-1]]]."
      ]
    },
    {
      "cell_type": "code",
      "metadata": {
        "id": "IZf2o7L0OW-S"
      },
      "source": [
        "def construct_array(X, i, j):\n",
        "    return np.hstack(X[[i],[j]])"
      ],
      "execution_count": null,
      "outputs": []
    },
    {
      "cell_type": "code",
      "metadata": {
        "id": "srxlH5pROW-c",
        "outputId": "307137a3-2ff2-4f47-a4f4-9e31d108e5ef"
      },
      "source": [
        "X = np.asarray([[1, 2, 3], [4, 5, 6], [7, 8, 9]])\n",
        "i = np.asarray([0, 1, 2])\n",
        "j = np.asarray([0, 1, 2])\n",
        "construct_array(X, i, j)"
      ],
      "execution_count": null,
      "outputs": [
        {
          "output_type": "execute_result",
          "data": {
            "text/plain": [
              "array([1, 5, 9])"
            ]
          },
          "metadata": {
            "tags": []
          },
          "execution_count": 25
        }
      ]
    },
    {
      "cell_type": "markdown",
      "metadata": {
        "id": "RhNHDWxPOW-n"
      },
      "source": [
        "**2.** Написать функцию для подсчёта произведения ненулевых элементов на диагонали прямоугольной матрицы.\n",
        "Например, для X = np.array([[1, 0, 1], [2, 0, 2], [3, 0, 3], [4, 4, 4]]) ответом является 3. Если ненулевых элементов нет, функция должна возвращать None."
      ]
    },
    {
      "cell_type": "code",
      "metadata": {
        "id": "v4FpZ8GKOW-p"
      },
      "source": [
        "def nonzero_product(X):\n",
        "    dig = np.diagonal(X)\n",
        "    if len(dig[dig.nonzero()]) > 0:\n",
        "        return np.multiply.reduce(dig[dig.nonzero()])\n",
        "    else:\n",
        "        return \"None\" "
      ],
      "execution_count": null,
      "outputs": []
    },
    {
      "cell_type": "code",
      "metadata": {
        "id": "FxGGuaRXOW-y",
        "outputId": "59a93725-4e2a-4b4c-b698-b2b20b6ba728"
      },
      "source": [
        "X = np.array([[1, 0, 1], [2, 0, 2], [3, 0, 3], [4, 4, 4]])\n",
        "nonzero_product(X)"
      ],
      "execution_count": null,
      "outputs": [
        {
          "output_type": "execute_result",
          "data": {
            "text/plain": [
              "3"
            ]
          },
          "metadata": {
            "tags": []
          },
          "execution_count": 4
        }
      ]
    },
    {
      "cell_type": "code",
      "metadata": {
        "id": "7wXTyO_pOW_M",
        "outputId": "67df9e06-8c7b-476f-baa9-c36d33d51937"
      },
      "source": [
        "X = np.array([[0, 1, 1], [2, 0, 2], [3, 1, 0], [4, 4, 4]])\n",
        "nonzero_product(X)"
      ],
      "execution_count": null,
      "outputs": [
        {
          "output_type": "execute_result",
          "data": {
            "text/plain": [
              "'None'"
            ]
          },
          "metadata": {
            "tags": []
          },
          "execution_count": 5
        }
      ]
    },
    {
      "cell_type": "markdown",
      "metadata": {
        "id": "uAezaaIPOW_Z"
      },
      "source": [
        "**3.** Написать функцию, возвращающую максимальный элемент в векторе x среди элементов, перед которыми стоит нулевой. Для x = np.array([6, 2, 0, 3, 0, 0, 5, 7, 0]) ответом является 5. Если таких элементов нет, функция должна возвращать None."
      ]
    },
    {
      "cell_type": "code",
      "metadata": {
        "id": "-gfSisrROW_b"
      },
      "source": [
        "def max_element(arr):\n",
        "    zero = arr == 0\n",
        "    if len(arr[1:][zero[:-1]]) > 0:\n",
        "        return arr[1:][zero[:-1]].max()\n",
        "    else:\n",
        "        return \"None\""
      ],
      "execution_count": null,
      "outputs": []
    },
    {
      "cell_type": "code",
      "metadata": {
        "id": "VhxA-6FnOW_k",
        "outputId": "0a25634b-0f15-4469-c9c4-a17d6a7e2859"
      },
      "source": [
        "x = np.array([6, 2, 0, 3, 0, 0, 5, 7, 0])\n",
        "max_element(x)"
      ],
      "execution_count": null,
      "outputs": [
        {
          "output_type": "execute_result",
          "data": {
            "text/plain": [
              "5"
            ]
          },
          "metadata": {
            "tags": []
          },
          "execution_count": 7
        }
      ]
    },
    {
      "cell_type": "code",
      "metadata": {
        "id": "UFvknuj6OW_s",
        "outputId": "03852620-872b-477b-cab0-45d8b623cbaf"
      },
      "source": [
        "x = np.array([6, 2, 1, 3, 1, 1, 5, 7, 1])\n",
        "max_element(x)"
      ],
      "execution_count": null,
      "outputs": [
        {
          "output_type": "execute_result",
          "data": {
            "text/plain": [
              "'None'"
            ]
          },
          "metadata": {
            "tags": []
          },
          "execution_count": 8
        }
      ]
    },
    {
      "cell_type": "markdown",
      "metadata": {
        "id": "WclKnh3OOW_2"
      },
      "source": [
        "**4.** Реализуйте функцию, принимающую на вход матрицу и некоторое число и возвращающую ближайший к числу элемент матрицы. Например: для X = np.arange(0,10).reshape((2, 5)) и v = 3.6 ответом будет 4."
      ]
    },
    {
      "cell_type": "code",
      "metadata": {
        "id": "GVWVaqrLOW_5"
      },
      "source": [
        "def nearest_value(X, v):\n",
        "    return np.argmin(np.abs(X-v))"
      ],
      "execution_count": null,
      "outputs": []
    },
    {
      "cell_type": "code",
      "metadata": {
        "id": "xHozsl2gOXAD",
        "outputId": "73591d4f-cb9a-4782-fd1e-dc290f8a7388"
      },
      "source": [
        "X = np.arange(0,10).reshape((2, 5))\n",
        "v = 3.6\n",
        "nearest_value(X, v)"
      ],
      "execution_count": null,
      "outputs": [
        {
          "output_type": "execute_result",
          "data": {
            "text/plain": [
              "4"
            ]
          },
          "metadata": {
            "tags": []
          },
          "execution_count": 10
        }
      ]
    },
    {
      "cell_type": "markdown",
      "metadata": {
        "id": "0ACdVQ4HOXAM"
      },
      "source": [
        "**5.** Написать функцию, которая получает на вход матрицу и масштабирует каждый её столбец, а именно вычитает из столбца его среднее значение и делит столбец на стандартное отклонение. Для тестирования можно сгенерировать с помощью метода numpy.random.randint случайную матрицу и проверить на ней работу метода.  Убедитесь, что в функции не будет происходить деления на ноль. "
      ]
    },
    {
      "cell_type": "code",
      "metadata": {
        "id": "MY0iHOZKOXAO"
      },
      "source": [
        "def scale(X):\n",
        "    mean = np.mean(X, axis=0)\n",
        "    std = np.std(X, axis=0)\n",
        "    try:\n",
        "        return (X - mean) / std\n",
        "    except ZeroDivisionError:\n",
        "        print(\"You cannot divide by zero!\")"
      ],
      "execution_count": null,
      "outputs": []
    },
    {
      "cell_type": "code",
      "metadata": {
        "id": "N6NLUZXMOXAX",
        "outputId": "d33f6a45-c964-43c4-dc9c-32b0b4c0c06d"
      },
      "source": [
        "X = np.random.randint(0, 10, (3, 5))\n",
        "scale(X)"
      ],
      "execution_count": null,
      "outputs": [
        {
          "output_type": "execute_result",
          "data": {
            "text/plain": [
              "array([[ 1.06904497,  1.22474487,  1.41421356, -1.41421356, -1.41421356],\n",
              "       [-1.33630621,  0.        , -0.70710678,  0.70710678,  0.70710678],\n",
              "       [ 0.26726124, -1.22474487, -0.70710678,  0.70710678,  0.70710678]])"
            ]
          },
          "metadata": {
            "tags": []
          },
          "execution_count": 14
        }
      ]
    },
    {
      "cell_type": "markdown",
      "metadata": {
        "id": "TkhFXj7TOXAg"
      },
      "source": [
        "**6.** Реализуйте функцию, которая для заданной матрицы находит:\n",
        " - определитель\n",
        " - след\n",
        " - наименьший и наибольший элементы\n",
        " - норму Фробениуса\n",
        " - собственные числа\n",
        " - обратную матрицу\n",
        "\n",
        "\n",
        "Для тестирования сгенерируйте матрицу с элементами из нормального распределения $N$(10,1)"
      ]
    },
    {
      "cell_type": "code",
      "metadata": {
        "id": "1z4VO43ROXAi"
      },
      "source": [
        "def get_stats(X):\n",
        "    stat = {}\n",
        "    stat['определитель'] = np.linalg.det(X)\n",
        "    stat['след'] = np.trace(X)\n",
        "    stat['наименьший и наибольший элементы'] = tuple((X.flat[X.argmin()], X.flat[X.argmax()]))\n",
        "    stat['норма Фробениуса'] = np.linalg.norm(X, ord = \"fro\")\n",
        "    stat['собственные числа'] = np.linalg.eig(X)[0]\n",
        "    stat['обратная матрица'] = np.linalg.inv(X)\n",
        "    return stat"
      ],
      "execution_count": null,
      "outputs": []
    },
    {
      "cell_type": "code",
      "metadata": {
        "id": "3gGtxiMmOXAp",
        "outputId": "400c4d47-5f41-46d9-fef8-31b0c0254b89"
      },
      "source": [
        "X = np.random.normal(10, 1, (3,3))\n",
        "print(X)\n",
        "get_stats(X)"
      ],
      "execution_count": null,
      "outputs": [
        {
          "output_type": "stream",
          "text": [
            "[[10.35748613  9.029072   11.7245324 ]\n",
            " [ 9.12819285 11.04797285  9.87906503]\n",
            " [11.93457585  8.69478758  9.48888864]]\n"
          ],
          "name": "stdout"
        },
        {
          "output_type": "execute_result",
          "data": {
            "text/plain": [
              "{'определитель': -136.74444662320442,\n",
              " 'след': 30.89434761733938,\n",
              " 'наименьший и наибольший элементы': (8.694787576564194, 11.93457584993214),\n",
              " 'норма Фробениуса': 30.615621730218095,\n",
              " 'собственные числа': array([30.44126146, -1.90498157,  2.35806773]),\n",
              " 'обратная матрица': array([[-0.13848176, -0.11895518,  0.2949555 ],\n",
              "        [-0.22879207,  0.30455561, -0.03438175],\n",
              "        [ 0.38381941, -0.12945318, -0.23408713]])}"
            ]
          },
          "metadata": {
            "tags": []
          },
          "execution_count": 16
        }
      ]
    },
    {
      "cell_type": "code",
      "metadata": {
        "id": "yS-G9aj7OXAx",
        "outputId": "ddb8f4ae-9268-4aa9-ae0a-fce8f70d77f6"
      },
      "source": [
        "X = ...\n",
        "get_stats(X)"
      ],
      "execution_count": null,
      "outputs": [
        {
          "output_type": "execute_result",
          "data": {
            "text/plain": [
              "{'определитель': 11.229255800082077,\n",
              " 'след': 31.861082036331997,\n",
              " 'наименьший и наибольший элементы': (9.409682760900868, 11.179471067836925),\n",
              " 'норма Фробениуса': 30.482879623796595,\n",
              " 'собственные числа': array([30.44908215,  0.34593338,  1.06606651]),\n",
              " 'обратная матрица': array([[ 2.01476982, -1.09661606, -0.87835649],\n",
              "        [-0.48868976,  0.7330548 , -0.23559114],\n",
              "        [-1.42132894,  0.35770376,  1.11377488]])}"
            ]
          },
          "metadata": {
            "tags": []
          },
          "execution_count": 16
        }
      ]
    },
    {
      "cell_type": "markdown",
      "metadata": {
        "id": "a5-d2yT2OXA7"
      },
      "source": [
        "### Pandas"
      ]
    },
    {
      "cell_type": "markdown",
      "metadata": {
        "id": "IPOl_ZegOXA8"
      },
      "source": [
        "Загрузите данные о пассажирах Титаника из файла *titanic.csv* и ответьте на следующие вопросы:"
      ]
    },
    {
      "cell_type": "code",
      "metadata": {
        "id": "Ed1S-mU9OXA_"
      },
      "source": [
        "import pandas as pd\n",
        "import matplotlib.pyplot as plt\n",
        "df = pd.read_csv('src_titanic.csv')"
      ],
      "execution_count": null,
      "outputs": []
    },
    {
      "cell_type": "markdown",
      "metadata": {
        "id": "hW8jkLp2OXBG"
      },
      "source": [
        "**1.** Опишите данный датасет: какое распределение женщин/мужчин в нем? Сколько пассажиров ехало каким классом? Какой средний/минимальный/максимальный возраст пассажиров? Что можно сказать о количестве выживших пассажиров?"
      ]
    },
    {
      "cell_type": "code",
      "metadata": {
        "id": "u3KnFd_hOXBI",
        "outputId": "e1fea811-2401-4c3c-e280-634f2e5c4799"
      },
      "source": [
        "labels = 'Men', 'Women'\n",
        "sizes = df.Sex.value_counts()\n",
        "colors = ['gold', 'yellowgreen']\n",
        "plt.pie(sizes, labels=labels, colors=colors,\n",
        "autopct='%1.1f%%', shadow=True, startangle=140)\n",
        "plt.axis('equal')\n",
        "plt.title('Распределение женщин и мужчин')\n",
        "plt.show()"
      ],
      "execution_count": null,
      "outputs": [
        {
          "output_type": "display_data",
          "data": {
            "image/png": "[encoded data removed]",
            "text/plain": [
              "<Figure size 432x288 with 1 Axes>"
            ]
          },
          "metadata": {
            "tags": []
          }
        }
      ]
    },
    {
      "cell_type": "code",
      "metadata": {
        "id": "jsuvk0leOXBQ",
        "outputId": "411108b7-f5b9-4312-e075-681fe4bf4ab2"
      },
      "source": [
        "labels = \"3\", \"1\", \"2\"\n",
        "sizes = df.Pclass.value_counts()\n",
        "colors = ['lightcoral', 'lightskyblue', 'silver']\n",
        "plt.pie(sizes, labels=labels, colors=colors,\n",
        "autopct='%1.1f%%', shadow=True, startangle=140)\n",
        "plt.axis('equal')\n",
        "plt.title('Распределение пассажиров по классам')\n",
        "plt.show()"
      ],
      "execution_count": null,
      "outputs": [
        {
          "output_type": "display_data",
          "data": {
            "image/png": "[encoded data removed]",
            "text/plain": [
              "<Figure size 432x288 with 1 Axes>"
            ]
          },
          "metadata": {
            "tags": []
          }
        }
      ]
    },
    {
      "cell_type": "code",
      "metadata": {
        "id": "xpy3rPWyOXBY",
        "outputId": "8041270d-6a4f-4da8-9b0a-201a1f59c2b0"
      },
      "source": [
        "labels = ('Min Age', \"Mean Age\", \"Max Age\")\n",
        "values = [df.Age.min(), df.Age.mean(), df.Age.max()]\n",
        "plt.bar(labels, values)\n",
        "plt.title('Age of passengers')\n",
        "plt.show()"
      ],
      "execution_count": null,
      "outputs": [
        {
          "output_type": "display_data",
          "data": {
            "image/png": "[encoded data removed]",
            "text/plain": [
              "<Figure size 432x288 with 1 Axes>"
            ]
          },
          "metadata": {
            "tags": [],
            "needs_background": "light"
          }
        }
      ]
    },
    {
      "cell_type": "code",
      "metadata": {
        "id": "pjpIHQIiOXBd",
        "outputId": "0dfd2644-da06-4081-9fea-a55024780f4d"
      },
      "source": [
        "labels = 'Died', 'Survived'\n",
        "sizes = df.Survived.value_counts()\n",
        "colors = ['darkgrey', 'pink']\n",
        "plt.pie(sizes, labels=labels, colors=colors,\n",
        "autopct='%1.1f%%', shadow=True, startangle=140)\n",
        "plt.axis('equal')\n",
        "plt.title('Выживаемость пассажиров')\n",
        "plt.show()"
      ],
      "execution_count": null,
      "outputs": [
        {
          "output_type": "display_data",
          "data": {
            "image/png": "[encoded data removed]",
            "text/plain": [
              "<Figure size 432x288 with 1 Axes>"
            ]
          },
          "metadata": {
            "tags": []
          }
        }
      ]
    },
    {
      "cell_type": "markdown",
      "metadata": {
        "id": "qi7wn2JdOXBi"
      },
      "source": [
        "**2.** Верно ли, что женщины выживали чаще мужчин? Какие пассажиры выживали чаще: с более дешевыми или дорогими билетами? Верно ли, что чаще выживали более молодые пассажиры?"
      ]
    },
    {
      "cell_type": "markdown",
      "metadata": {
        "id": "NaZKqBwTOXBj"
      },
      "source": [
        "# Верно ли, что женщины выживали чаще мужчин? \n",
        "\n",
        "Да, верно."
      ]
    },
    {
      "cell_type": "code",
      "metadata": {
        "id": "8cCfUcmbOXBk",
        "outputId": "3201a508-7634-4cb0-dedd-55511e9ad376"
      },
      "source": [
        "labels = 'Dead men', 'Alive men'\n",
        "labels2 = \"Alive women\", \"Dead women\"\n",
        "sizes1 = df[(df['Sex'] == 'male')].Survived.value_counts()\n",
        "sizes2 = df[(df['Sex'] == 'female')].Survived.value_counts()\n",
        "\n",
        "fig = plt.figure()\n",
        "ax1 = fig.add_axes([0, 0, .5, .5], aspect=1)\n",
        "ax1.pie(sizes1, labels=labels, radius = 1.2, colors = [\"darkgrey\", \"yellow\"], autopct='%1.1f%%', shadow=True, startangle=150)\n",
        "ax2 = fig.add_axes([.5, .0, .5, .5], aspect=1)\n",
        "ax2.pie(sizes2, labels=labels2, radius = 1.2, colors = [\"yellow\", \"darkgrey\"], autopct='%1.1f%%', shadow=True, startangle=0)\n",
        "plt.title('Выживаемость пассажиров')\n",
        "plt.show()"
      ],
      "execution_count": null,
      "outputs": [
        {
          "output_type": "display_data",
          "data": {
            "image/png": "[encoded data removed]",
            "text/plain": [
              "<Figure size 432x288 with 2 Axes>"
            ]
          },
          "metadata": {
            "tags": []
          }
        }
      ]
    },
    {
      "cell_type": "markdown",
      "metadata": {
        "id": "q2W3zLhJOXBo"
      },
      "source": [
        "# Какие пассажиры выживали чаще: с более дешевыми или дорогими билетами?\n",
        "\n",
        "Если отталкиваться от медианной цены за билеты, то чаще выживали пассажиры с более дорогими билетами."
      ]
    },
    {
      "cell_type": "code",
      "metadata": {
        "id": "ejw0N9TLOXBp",
        "outputId": "66f3e2e5-5fbf-43c5-c62c-34c4ee722e4c"
      },
      "source": [
        "labels = 'Alive', 'Dead'\n",
        "labels2 = \"Dead \", \"Alive\"\n",
        "sizes1 = df[(df['Fare'] >= df.Fare.median())].Survived.value_counts()\n",
        "sizes2 = df[(df['Fare'] < df.Fare.median())].Survived.value_counts()\n",
        "\n",
        "fig = plt.figure()\n",
        "ax1 = fig.add_axes([0, 0, .5, .5], aspect=1)\n",
        "ax1.pie(sizes1, labels=labels, radius = 1.2, colors = [\"yellow\", \"darkgrey\"], autopct='%1.1f%%', shadow=True, startangle=120)\n",
        "ax1.title.set_text(\"С более дорогими билетами\")\n",
        "ax2 = fig.add_axes([.5, .0, .5, .5], aspect=1)\n",
        "ax2.pie(sizes2, labels=labels2, radius = 1.2, colors = [\"darkgrey\", \"yellow\"], autopct='%1.1f%%', shadow=True, startangle=230)\n",
        "ax2.title.set_text(\"С более дешевыми билетами\")\n",
        "plt.show()"
      ],
      "execution_count": null,
      "outputs": [
        {
          "output_type": "display_data",
          "data": {
            "image/png": "[encoded data removed]",
            "text/plain": [
              "<Figure size 432x288 with 2 Axes>"
            ]
          },
          "metadata": {
            "tags": []
          }
        }
      ]
    },
    {
      "cell_type": "markdown",
      "metadata": {
        "id": "TdwJtzDaOXBv"
      },
      "source": [
        "# Верно ли, что чаще выживали более молодые пассажиры?\n",
        "\n",
        "Аналогично, если отталкиваться от среднего возраста, то неверно. Возраст не сыграл особой роли.\n",
        "\n",
        "(Очень странное совпадение значений, однако....)"
      ]
    },
    {
      "cell_type": "code",
      "metadata": {
        "id": "R4KPx58LOXBx",
        "outputId": "a5ede74a-53ad-46d4-8457-26cdc9581982"
      },
      "source": [
        "labels = 'Dead', 'Alive'\n",
        "labels2 = \"Dead \", \"Alive\"\n",
        "sizes1 = df[(df['Age'] >= df.Age.mean())].Survived.value_counts()\n",
        "sizes2 = df[(df['Age'] < df.Age.mean())].Survived.value_counts()\n",
        "\n",
        "fig = plt.figure()\n",
        "ax1 = fig.add_axes([0, 0, .5, .5], aspect=1)\n",
        "ax1.pie(sizes1, labels=labels, radius = 1.2, colors = [\"darkgrey\", \"yellow\"], autopct='%1.1f%%', shadow=True, startangle=130)\n",
        "ax1.title.set_text(\"Старше среднего возраста\")\n",
        "ax2 = fig.add_axes([.5, .0, .5, .5], aspect=1)\n",
        "ax2.pie(sizes2, labels=labels2, radius = 1.2, colors = [\"darkgrey\", \"yellow\"], autopct='%1.1f%%', shadow=True, startangle=120)\n",
        "ax2.title.set_text(\"Младше среднего возраста\")\n",
        "plt.show()"
      ],
      "execution_count": null,
      "outputs": [
        {
          "output_type": "display_data",
          "data": {
            "image/png": "[encoded data removed]",
            "text/plain": [
              "<Figure size 432x288 with 2 Axes>"
            ]
          },
          "metadata": {
            "tags": []
          }
        }
      ]
    },
    {
      "cell_type": "code",
      "metadata": {
        "id": "kNe2i2f_OXB1",
        "outputId": "492317b7-86d4-4bd5-e15a-51b8e048f71a"
      },
      "source": [
        "df[(df['Age'] >= df.Age.mean())].Survived.value_counts()"
      ],
      "execution_count": null,
      "outputs": [
        {
          "output_type": "execute_result",
          "data": {
            "text/plain": [
              "0    196\n",
              "1    134\n",
              "Name: Survived, dtype: int64"
            ]
          },
          "metadata": {
            "tags": []
          },
          "execution_count": 25
        }
      ]
    },
    {
      "cell_type": "code",
      "metadata": {
        "id": "PPtD7bHfOXB5",
        "outputId": "6c8727a9-4ccf-4b47-9f1f-462d43a19a0c"
      },
      "source": [
        "df[(df['Age'] < df.Age.mean())].Survived.value_counts()"
      ],
      "execution_count": null,
      "outputs": [
        {
          "output_type": "execute_result",
          "data": {
            "text/plain": [
              "0    228\n",
              "1    156\n",
              "Name: Survived, dtype: int64"
            ]
          },
          "metadata": {
            "tags": []
          },
          "execution_count": 26
        }
      ]
    },
    {
      "cell_type": "markdown",
      "metadata": {
        "id": "PCJiCGyDOXB9"
      },
      "source": [
        "**3.** Найдите все признаки, для которых есть пропуски в данных. Обычно алгоритмы по умолчанию не умеют обрабатывать такие данные. Предложите способы обработки данных с пропусками (не менее двух) и укажите их достоинства/недостаки каждого. Проиллюстрируйте их на примере данного датасета."
      ]
    },
    {
      "cell_type": "code",
      "metadata": {
        "id": "6lTHtc-nOXB-",
        "outputId": "80d8deb3-5102-4ac1-ffc8-65efa4da2bb9"
      },
      "source": [
        " df.info()"
      ],
      "execution_count": null,
      "outputs": [
        {
          "output_type": "stream",
          "text": [
            "<class 'pandas.core.frame.DataFrame'>\n",
            "RangeIndex: 891 entries, 0 to 890\n",
            "Data columns (total 12 columns):\n",
            "PassengerId    891 non-null int64\n",
            "Survived       891 non-null int64\n",
            "Pclass         891 non-null int64\n",
            "Name           891 non-null object\n",
            "Sex            891 non-null object\n",
            "Age            714 non-null float64\n",
            "SibSp          891 non-null int64\n",
            "Parch          891 non-null int64\n",
            "Ticket         891 non-null object\n",
            "Fare           891 non-null float64\n",
            "Cabin          204 non-null object\n",
            "Embarked       889 non-null object\n",
            "dtypes: float64(2), int64(5), object(5)\n",
            "memory usage: 83.7+ KB\n"
          ],
          "name": "stdout"
        }
      ]
    },
    {
      "cell_type": "markdown",
      "metadata": {
        "id": "JjCG_gLLOXCF"
      },
      "source": [
        "# Пропуски имеют признаки \"Age\", \"Cabin\" and \"Embarked\". \n",
        " \n",
        "Способы обработки данных с пропусками:\n",
        " \n",
        " 1) Исключение строк с наличием пропусков:\n",
        " 1.1 Удаление всех респондентов с пропущенными данными (listwise deletion). При вычислении сложных моделей с большим числом переменных этот метод может привести к большому объему исключенных наблюдений, в ряде случаев до двух третей исходного массива данных.\n",
        " 1.2 Переменные для наблюдений с пропущенными значениями не включаются в проводимый анализ по необходимости (рairwise deletion). \n",
        " Легко реализуем, но может применяться лишь при незначительном количестве пропущенных данных, иначе полученные на выходе данные становятся нерепрезентативными. В данном датасете можно было применить к признаку \"Embarked\", поскольку в нем минимальное количество пропусков, и возможно к \"Age\". \n",
        " \n",
        " 2) Заполнение пропусков средними по столбцу значениями. Также легко реализовать, к недостаткам метода относят вносимые искажения в распределения данных, уменьшение дисперсии. Этот метод дает лучшие результаты, чем методы, основанные на исключении наблюдений, однако он также ведет к смещенным результатам. Было бы применимо к признаку \"Age\", если бы нахождение корреляции этого признака с каким-либо другим не было бы первостепенной задачей анализа.\n",
        " \n",
        " 3) Метод хот-дек (hot deck). Сортировка респондентов по ключевым переменным, тогда респонденты со схожими ответами находятся\n",
        "рядом друг с другом. При восстановлении пропущенные значения переменной заимствуются из предыдущего наблюдения. Наиболее продвинутой модификацией считается хот-дек со случайным отбором значений из подгруппы схожих респондентов.\n",
        "Главным недостатком метода хот-дек является наличие взаимосвязей между восстановленными значениями и занижение значений дисперсии. Снизить уровень зависимости до незначимых величин возможно лишь при очень большом числе подгрупп, что подразумевает большие объемы выборок. \n",
        "Было бы актуально для заполнения признака \"Cabin\" на основе признака \"Pclass\" (и чертежей Титаника :)).\t\n",
        "\n",
        "4) Замена пропущенных значений нулями и добавление специального атрибута-индикатора, принимающего нулевые значения для записей, где данные изначально не содержали пропусков и ненулевые значения там, где ранее были пропуски. \n",
        "\n",
        "К преимуществам данного метода относятся: использование всего набора данных (репрезентативность выборки не страдает), явное использование информации о пропущенных значениях. Однако, также может привести к существенному искажению результатов.\n",
        "Использование возможно для любых пропущенных признаков."
      ]
    }
  ]
}