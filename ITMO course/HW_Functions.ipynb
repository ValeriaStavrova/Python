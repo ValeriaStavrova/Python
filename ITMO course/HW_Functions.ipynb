{
  "nbformat": 4,
  "nbformat_minor": 0,
  "metadata": {
    "kernelspec": {
      "display_name": "Python 3",
      "language": "python",
      "name": "python3"
    },
    "language_info": {
      "codemirror_mode": {
        "name": "ipython",
        "version": 3
      },
      "file_extension": ".py",
      "mimetype": "text/x-python",
      "name": "python",
      "nbconvert_exporter": "python",
      "pygments_lexer": "ipython3",
      "version": "3.7.4"
    },
    "colab": {
      "name": "HW Functions.ipynb",
      "provenance": []
    }
  },
  "cells": [
    {
      "cell_type": "markdown",
      "metadata": {
        "id": "Vxb1Wfda2EXc",
        "colab_type": "text"
      },
      "source": [
        "### Задание 1"
      ]
    },
    {
      "cell_type": "markdown",
      "metadata": {
        "id": "h-Csx5OD2EXe",
        "colab_type": "text"
      },
      "source": [
        "Реализуйте функцию union, возвращающую объединение произвольного числа множеств."
      ]
    },
    {
      "cell_type": "code",
      "metadata": {
        "id": "HfCRRA8Z2EXk",
        "colab_type": "code",
        "colab": {}
      },
      "source": [
        "def union1(*args):\n",
        "    res = set()\n",
        "    for arg in args:\n",
        "        res = res.union(arg)\n",
        "    return res"
      ],
      "execution_count": null,
      "outputs": []
    },
    {
      "cell_type": "code",
      "metadata": {
        "id": "L9J9GM8N2EXo",
        "colab_type": "code",
        "colab": {},
        "outputId": "25fd0f26-dc16-4520-aa04-6ea8e12a5299"
      },
      "source": [
        "union1({1, 2, 3}, {10}, {2, 6})"
      ],
      "execution_count": null,
      "outputs": [
        {
          "output_type": "execute_result",
          "data": {
            "text/plain": [
              "{1, 2, 3, 6, 10}"
            ]
          },
          "metadata": {
            "tags": []
          },
          "execution_count": 11
        }
      ]
    },
    {
      "cell_type": "markdown",
      "metadata": {
        "id": "CL6-WKWl2EXt",
        "colab_type": "text"
      },
      "source": [
        "### Задание 2"
      ]
    },
    {
      "cell_type": "markdown",
      "metadata": {
        "id": "XJOAYcQ_2EXt",
        "colab_type": "text"
      },
      "source": [
        "Реализуйте функцию digits, возвращающую список цифр неотрицательного целого числа.\n",
        "\n",
        "Пользоваться функцией str для реализации функции digits нельзя."
      ]
    },
    {
      "cell_type": "code",
      "metadata": {
        "id": "Oxm2cjub2EXy",
        "colab_type": "code",
        "colab": {}
      },
      "source": [
        "def digits1(a):\n",
        "    res = [] \n",
        "    if isinstance(a, int) and a >= 0:\n",
        "        if a == 0:    \n",
        "            return ([a])\n",
        "        else:\n",
        "            while a != 0 :\n",
        "                s = a % 10  \n",
        "                a = a // 10\n",
        "                res.append(s)\n",
        "            res.reverse()\n",
        "            return res     "
      ],
      "execution_count": null,
      "outputs": []
    },
    {
      "cell_type": "code",
      "metadata": {
        "id": "gl0sIuWO2EX1",
        "colab_type": "code",
        "colab": {},
        "outputId": "b3550a8a-0c5f-4f5c-ff85-281f7928078b"
      },
      "source": [
        "digits1(0) # [0]"
      ],
      "execution_count": null,
      "outputs": [
        {
          "output_type": "execute_result",
          "data": {
            "text/plain": [
              "[0]"
            ]
          },
          "metadata": {
            "tags": []
          },
          "execution_count": 7
        }
      ]
    },
    {
      "cell_type": "code",
      "metadata": {
        "id": "RILt_5YT2EX4",
        "colab_type": "code",
        "colab": {},
        "outputId": "8368ac26-c28e-4e6c-ba8e-8f6501ba870b"
      },
      "source": [
        "digits1(1914) # [1, 9, 1, 4]"
      ],
      "execution_count": null,
      "outputs": [
        {
          "output_type": "execute_result",
          "data": {
            "text/plain": [
              "[1, 9, 1, 4]"
            ]
          },
          "metadata": {
            "tags": []
          },
          "execution_count": 8
        }
      ]
    },
    {
      "cell_type": "markdown",
      "metadata": {
        "id": "lHVaNWFA2EX9",
        "colab_type": "text"
      },
      "source": [
        "### Задание 3"
      ]
    },
    {
      "cell_type": "markdown",
      "metadata": {
        "id": "42NvYhR-2EX9",
        "colab_type": "text"
      },
      "source": [
        "Напишите функцию lcm, вычисляющую НОК (наименьшее общее кратное) двух и более целых чисел. \n",
        "\n",
        "В данном задании можно использовать функцию gcd из модуля math `from math import gcd`\n",
        "\n",
        "В случае, если передано меньше чисел, чем 2, должно быть брошено исключение. Бросать исключения с помощью raise запрещено.\n"
      ]
    },
    {
      "cell_type": "code",
      "metadata": {
        "id": "wOXWqafL2EX-",
        "colab_type": "code",
        "colab": {}
      },
      "source": [
        "from math import gcd\n",
        "\n",
        "def lcm(*args):\n",
        "    try:\n",
        "        if len(args) == 2:\n",
        "            nok = (args[0] * args[1]) // gcd(*args)\n",
        "            return nok\n",
        "        if len(args) > 2:\n",
        "            m2 = (args[0] * args[1]) // gcd(args[0], args[1])\n",
        "            i = 2\n",
        "            while i < len(args):\n",
        "                m3 = ((m2 * args[i]) // gcd(m2, args[i]))\n",
        "                m2 = m3\n",
        "                i += 1\n",
        "            return m3\n",
        "    except Exception:\n",
        "        len(args) < 2\n",
        "    print(\"Количество чисел должно быть не меньше двух\")   "
      ],
      "execution_count": null,
      "outputs": []
    },
    {
      "cell_type": "code",
      "metadata": {
        "id": "-D_tNDpv2EYB",
        "colab_type": "code",
        "colab": {},
        "outputId": "1eeeaf3e-74de-4a3c-a7c3-a51d37aa8ed9"
      },
      "source": [
        "lcm(100500, 42) # 703500"
      ],
      "execution_count": null,
      "outputs": [
        {
          "output_type": "execute_result",
          "data": {
            "text/plain": [
              "703500"
            ]
          },
          "metadata": {
            "tags": []
          },
          "execution_count": 100
        }
      ]
    },
    {
      "cell_type": "code",
      "metadata": {
        "id": "KxOzcgoN2EYD",
        "colab_type": "code",
        "colab": {},
        "outputId": "e752557d-8c25-452b-f599-15faeaf0c341"
      },
      "source": [
        "lcm(*range(2, 40, 8)) # 19890"
      ],
      "execution_count": null,
      "outputs": [
        {
          "output_type": "execute_result",
          "data": {
            "text/plain": [
              "19890"
            ]
          },
          "metadata": {
            "tags": []
          },
          "execution_count": 101
        }
      ]
    },
    {
      "cell_type": "code",
      "metadata": {
        "id": "91cvUr5Q2EYG",
        "colab_type": "code",
        "colab": {},
        "outputId": "2ccef0a2-62a2-4212-9fa0-dd156bb739f5"
      },
      "source": [
        "lcm(100505)"
      ],
      "execution_count": null,
      "outputs": [
        {
          "output_type": "stream",
          "text": [
            "Количество чисел должно быть не меньше двух\n"
          ],
          "name": "stdout"
        }
      ]
    },
    {
      "cell_type": "markdown",
      "metadata": {
        "id": "So59lda62EYK",
        "colab_type": "text"
      },
      "source": [
        "### Задание 4"
      ]
    },
    {
      "cell_type": "markdown",
      "metadata": {
        "id": "7BhjlGBU2EYK",
        "colab_type": "text"
      },
      "source": [
        "Реализуйте функцию compose, которая принимает две и более функции от одного аргумента, и возвращает их композицию."
      ]
    },
    {
      "cell_type": "code",
      "metadata": {
        "id": "C-4B-pAP2EYL",
        "colab_type": "code",
        "colab": {}
      },
      "source": [
        "f = compose(lambda x: 2 * x, lambda x: x + 1, lambda x: x % 9) "
      ],
      "execution_count": null,
      "outputs": []
    },
    {
      "cell_type": "code",
      "metadata": {
        "id": "YvrIYwgu2EYN",
        "colab_type": "code",
        "colab": {},
        "outputId": "503f63f6-5384-41b8-ac45-cb4b74e88438"
      },
      "source": [
        "2 * ((42 % 9) + 1)"
      ],
      "execution_count": null,
      "outputs": [
        {
          "output_type": "execute_result",
          "data": {
            "text/plain": [
              "14"
            ]
          },
          "metadata": {
            "tags": []
          },
          "execution_count": 194
        }
      ]
    },
    {
      "cell_type": "code",
      "metadata": {
        "id": "9QaKwFLc2EYX",
        "colab_type": "code",
        "colab": {}
      },
      "source": [
        "def compose (*args):\n",
        "    def inner(arg):\n",
        "        if len(args) >= 2:\n",
        "            for f in args:\n",
        "                arg = f(arg)\n",
        "            return arg\n",
        "        else:\n",
        "            print(\"Количество аргументов должно быть не меньше двух\")\n",
        "    return inner"
      ],
      "execution_count": null,
      "outputs": []
    },
    {
      "cell_type": "code",
      "metadata": {
        "id": "qLLtfFRf2EYZ",
        "colab_type": "code",
        "colab": {},
        "outputId": "4205645a-32b2-4056-d2ec-cfcbe6a7543a"
      },
      "source": [
        "def a(x): \n",
        "    return 2 * x \n",
        "\n",
        "def b(x):\n",
        "    return x + 1\n",
        "\n",
        "def c(x):\n",
        "    return x % 9\n",
        "\n",
        "compose(c,b,a)(42)"
      ],
      "execution_count": null,
      "outputs": [
        {
          "output_type": "execute_result",
          "data": {
            "text/plain": [
              "14"
            ]
          },
          "metadata": {
            "tags": []
          },
          "execution_count": 56
        }
      ]
    },
    {
      "cell_type": "code",
      "metadata": {
        "id": "F_thnDYZ2EYd",
        "colab_type": "code",
        "colab": {},
        "outputId": "ddbada7f-cb48-4e54-ce6b-cf509296c62a"
      },
      "source": [
        "compose(c,b)(42)"
      ],
      "execution_count": null,
      "outputs": [
        {
          "output_type": "execute_result",
          "data": {
            "text/plain": [
              "7"
            ]
          },
          "metadata": {
            "tags": []
          },
          "execution_count": 57
        }
      ]
    },
    {
      "cell_type": "code",
      "metadata": {
        "id": "GPxEps6U2EYg",
        "colab_type": "code",
        "colab": {},
        "outputId": "99eaa4b2-1a10-4f22-9dbb-078b317a9207"
      },
      "source": [
        "compose(a)(42)"
      ],
      "execution_count": null,
      "outputs": [
        {
          "output_type": "stream",
          "text": [
            "Количество аргументов должно быть не меньше двух\n"
          ],
          "name": "stdout"
        }
      ]
    },
    {
      "cell_type": "markdown",
      "metadata": {
        "id": "YlWyx9ih2EYj",
        "colab_type": "text"
      },
      "source": [
        "### Задание 5"
      ]
    },
    {
      "cell_type": "markdown",
      "metadata": {
        "id": "Nd2E8J9O2EYj",
        "colab_type": "text"
      },
      "source": [
        "Напишите списковое выражение, которое для данного n генерирует все пифагоровские тройки из чисел не больше, чем n (x, y, z называется пифагоровской тройкой, если $x^2 + y^2 = z^2$)."
      ]
    },
    {
      "cell_type": "code",
      "metadata": {
        "id": "UnMJk3Fi2EYk",
        "colab_type": "code",
        "colab": {}
      },
      "source": [
        "[(x, y, z) for x in range(n+1) for y in range(n+1) for z in range(n+1) if x != 0 and y > x and z > y and x**2 + y**2 == z**2]"
      ],
      "execution_count": null,
      "outputs": []
    },
    {
      "cell_type": "code",
      "metadata": {
        "id": "njqwFLZG2EYn",
        "colab_type": "code",
        "colab": {},
        "outputId": "b2714a65-5341-4e8e-f7d1-d5fb48ecf49a"
      },
      "source": [
        "[(x, y, z) for x in range(20+1) for y in range(20+1) for z in range(20+1) if x != 0 and y > x and z > y and x**2 + y**2 == z**2]"
      ],
      "execution_count": null,
      "outputs": [
        {
          "output_type": "execute_result",
          "data": {
            "text/plain": [
              "[(3, 4, 5), (5, 12, 13), (6, 8, 10), (8, 15, 17), (9, 12, 15), (12, 16, 20)]"
            ]
          },
          "metadata": {
            "tags": []
          },
          "execution_count": 88
        }
      ]
    },
    {
      "cell_type": "markdown",
      "metadata": {
        "id": "W2Wtm2Fn2EYp",
        "colab_type": "text"
      },
      "source": [
        "### Задание 6"
      ]
    },
    {
      "cell_type": "markdown",
      "metadata": {
        "id": "2NzGcoaF2EYq",
        "colab_type": "text"
      },
      "source": [
        "Алексей написал следующий код:\n",
        "```python\n",
        "def factory(n):\n",
        "    list_to_return = []\n",
        "    for i in range(n):\n",
        "        list_to_return.append(lambda: i)\n",
        "    return list_to_return \n",
        "```\n",
        "но его код работает не так, как он ожидал:\n",
        "```python\n",
        ">>> for func in factory(5):\n",
        "        print(func())\n",
        "4\n",
        "4\n",
        "4\n",
        "4\n",
        "4\n",
        "```\n",
        "Вам предстоит:\n",
        "- объяснить Алексею почему так получилось в 2-4 предложениях\n",
        "- переписать код функции factory так, чтобы исправить проблему"
      ]
    },
    {
      "cell_type": "code",
      "metadata": {
        "id": "-i70dgVu2EYq",
        "colab_type": "code",
        "colab": {},
        "outputId": "a84caa60-7a07-4e5a-ffe5-54ab9662f2d3"
      },
      "source": [
        "def factory(n):\n",
        "    list_to_return = []\n",
        "    for i in range(n):\n",
        "        list_to_return.append(lambda a = i: a)\n",
        "    return list_to_return \n",
        "\n",
        "for func in factory(5):\n",
        "    print(func())\n",
        "\n",
        "# Переменная i находилась не в локальном окружении, а определялась в глобальном.\n",
        "# Код обращался к ней при вызове лямбды, а не когда ее значение присваивалось и переприсваивалось. \n",
        "# Это привело к тому, что в конце цикла ее значение было 4, и лямбда использовала только это значение.\n",
        "# Чтобы избежать этого нужно сохранять значения в переменных в локальном окружении лямбды. "
      ],
      "execution_count": null,
      "outputs": [
        {
          "output_type": "stream",
          "text": [
            "0\n",
            "1\n",
            "2\n",
            "3\n",
            "4\n"
          ],
          "name": "stdout"
        }
      ]
    }
  ]
}