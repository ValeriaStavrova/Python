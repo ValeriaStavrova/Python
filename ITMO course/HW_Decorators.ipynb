{
  "nbformat": 4,
  "nbformat_minor": 0,
  "metadata": {
    "kernelspec": {
      "display_name": "Python 3",
      "language": "python",
      "name": "python3"
    },
    "language_info": {
      "codemirror_mode": {
        "name": "ipython",
        "version": 3
      },
      "file_extension": ".py",
      "mimetype": "text/x-python",
      "name": "python",
      "nbconvert_exporter": "python",
      "pygments_lexer": "ipython3",
      "version": "3.7.4"
    },
    "colab": {
      "name": "HW_Decorators.ipynb",
      "provenance": []
    }
  },
  "cells": [
    {
      "cell_type": "markdown",
      "metadata": {
        "id": "goY4g0OaMFmo"
      },
      "source": [
        "### 1. N times\n",
        "Реализуйте декоратор n_times. Результатом его работы должна быть функция, вызывающая декорируемую функцию n раз. \n",
        "Возвращаемое значение декорируемой функции можно игнорировать.\n",
        "\n",
        "```python\n",
        "@n_times(3)\n",
        "def do_something():\n",
        "    print(\"Something is going on!\")\n",
        "\n",
        ">>> do_something()\n",
        "Something is going on!\n",
        "Something is going on!\n",
        "Something is going on!\n",
        "```\n"
      ]
    },
    {
      "cell_type": "code",
      "metadata": {
        "id": "AwxX2WjWMFmr"
      },
      "source": [
        "import functools"
      ],
      "execution_count": null,
      "outputs": []
    },
    {
      "cell_type": "code",
      "metadata": {
        "id": "g6cvFNkbMFm6"
      },
      "source": [
        "def n_times(n):\n",
        "    def times(func):\n",
        "        @functools.wraps(func)\n",
        "        def inner(*args, **kwargs):\n",
        "            for _ in range(n):\n",
        "                func(*args, **kwargs)\n",
        "        return inner\n",
        "    return times"
      ],
      "execution_count": null,
      "outputs": []
    },
    {
      "cell_type": "code",
      "metadata": {
        "id": "o9i4cR84MFnE",
        "outputId": "08a4afbb-07dc-4c11-9cb6-b9e6d78f1e44"
      },
      "source": [
        "@n_times(5)\n",
        "def do_something():\n",
        "    print(\"Something is going on!\")\n",
        "    \n",
        "do_something()"
      ],
      "execution_count": null,
      "outputs": [
        {
          "output_type": "stream",
          "text": [
            "Something is going on!\n",
            "Something is going on!\n",
            "Something is going on!\n",
            "Something is going on!\n",
            "Something is going on!\n"
          ],
          "name": "stdout"
        }
      ]
    },
    {
      "cell_type": "markdown",
      "metadata": {
        "id": "6HWAedk8MFnP"
      },
      "source": [
        "### 2. trace_if \n",
        "Напишите декоратор trace, который будет выводить информацию о вызове функции, только если переданные аргументы \n",
        "удовлетворяют предикату.\n",
        "```python\n",
        "@trace_if(lambda x, y, **kwargs: kwargs.get(\"integral\"))\n",
        "def div(x, y, integral=False):\n",
        "    return x // y if integral else x / y\n",
        "\n",
        ">>> div(4, 2)\n",
        "2\n",
        ">>> div(4, 2, integral=True)\n",
        "div (4, 2) {'integral': True}\n",
        "2\n",
        "```\n"
      ]
    },
    {
      "cell_type": "code",
      "metadata": {
        "id": "2kGai5lFMFnR"
      },
      "source": [
        "def trace_if(predicate=lambda *args, **kwargs: False):\n",
        "    def _trace(func):\n",
        "        @functools.wraps(func)\n",
        "        def inner(*args, **kwargs):\n",
        "            if predicate(*args, **kwargs):\n",
        "                print(func.__name__, args, kwargs)\n",
        "            return func(*args, **kwargs)\n",
        "        return inner\n",
        "    return _trace\n",
        "\n",
        "            "
      ],
      "execution_count": null,
      "outputs": []
    },
    {
      "cell_type": "code",
      "metadata": {
        "id": "3iQmjVryMFnb"
      },
      "source": [
        "@trace_if(lambda x, y, **kwargs: kwargs.get(\"integral\"))\n",
        "def div(x, y, integral=False):\n",
        "    return x // y if integral else x / y"
      ],
      "execution_count": null,
      "outputs": []
    },
    {
      "cell_type": "code",
      "metadata": {
        "id": "Qeyw6939MFnk",
        "outputId": "6d5fccc3-e9a3-4739-d93e-afb6d27a051f"
      },
      "source": [
        "div(4, 2)"
      ],
      "execution_count": null,
      "outputs": [
        {
          "output_type": "execute_result",
          "data": {
            "text/plain": [
              "2.0"
            ]
          },
          "metadata": {
            "tags": []
          },
          "execution_count": 70
        }
      ]
    },
    {
      "cell_type": "code",
      "metadata": {
        "id": "CwIcIIHuMFnt",
        "outputId": "ecdd6ed7-1ac1-4a12-cc94-09ec4e5c3b65"
      },
      "source": [
        "div(4, 2, integral=True)"
      ],
      "execution_count": null,
      "outputs": [
        {
          "output_type": "stream",
          "text": [
            "div (4, 2) {'integral': True}\n"
          ],
          "name": "stdout"
        },
        {
          "output_type": "execute_result",
          "data": {
            "text/plain": [
              "2"
            ]
          },
          "metadata": {
            "tags": []
          },
          "execution_count": 71
        }
      ]
    },
    {
      "cell_type": "markdown",
      "metadata": {
        "id": "f563iwi4MFn6"
      },
      "source": [
        "### 3. checked\n",
        "Напишите декоратор, который будет вызывать исключение (`raise TypeError`), если в него переданы аргументы не тех типов.\n",
        "\n",
        "Для простоты можно считать, что у декорируемой функции есть **только позициональные аргументы**.\n",
        "\n",
        "```python\n",
        "@checked(int, int, float)\n",
        "def do_sum_and_div(a, b, c):\n",
        "    return c / (a + b)     \n",
        "```"
      ]
    },
    {
      "cell_type": "code",
      "metadata": {
        "id": "03Yek6qlMFn7"
      },
      "source": [
        "def checked(*types):\n",
        "    def _checked(func):\n",
        "        @functools.wraps(func)\n",
        "        def inner(*args):\n",
        "            for i, j in zip(args, types):\n",
        "                if not isinstance(i,j):\n",
        "                    raise TypeError(\"Переданы аргументы не тех типов\")\n",
        "            return func(*args)\n",
        "        return inner\n",
        "    return _checked\n",
        "\n",
        "@checked(int, int, float)\n",
        "def do_sum_and_div(a, b, c):\n",
        "    return c / (a + b)    "
      ],
      "execution_count": null,
      "outputs": []
    },
    {
      "cell_type": "code",
      "metadata": {
        "id": "cQ9sGaRWMFoE"
      },
      "source": [
        "@checked(int, int, float)\n",
        "def do_sum_and_div(a, b, c):\n",
        "    return c / (a + b)     "
      ],
      "execution_count": null,
      "outputs": []
    },
    {
      "cell_type": "code",
      "metadata": {
        "id": "TKC7qiKCMFoM",
        "outputId": "dcf89aa8-630a-44a2-a1e2-edfe49b2f779"
      },
      "source": [
        "do_sum_and_div(1,2,1.5)"
      ],
      "execution_count": null,
      "outputs": [
        {
          "output_type": "execute_result",
          "data": {
            "text/plain": [
              "0.5"
            ]
          },
          "metadata": {
            "tags": []
          },
          "execution_count": 75
        }
      ]
    },
    {
      "cell_type": "code",
      "metadata": {
        "id": "AGhrjZziMFoV",
        "outputId": "91e5570d-94fe-4e15-c2ef-18cb8fe36c0e"
      },
      "source": [
        "do_sum_and_div(1,2,1)"
      ],
      "execution_count": null,
      "outputs": [
        {
          "output_type": "error",
          "ename": "TypeError",
          "evalue": "Переданы аргументы не тех типов",
          "traceback": [
            "\u001b[1;31m---------------------------------------------------------------------------\u001b[0m",
            "\u001b[1;31mTypeError\u001b[0m                                 Traceback (most recent call last)",
            "\u001b[1;32m<ipython-input-76-f30ba8aafb11>\u001b[0m in \u001b[0;36m<module>\u001b[1;34m\u001b[0m\n\u001b[1;32m----> 1\u001b[1;33m \u001b[0mdo_sum_and_div\u001b[0m\u001b[1;33m(\u001b[0m\u001b[1;36m1\u001b[0m\u001b[1;33m,\u001b[0m\u001b[1;36m2\u001b[0m\u001b[1;33m,\u001b[0m\u001b[1;36m1\u001b[0m\u001b[1;33m)\u001b[0m\u001b[1;33m\u001b[0m\u001b[1;33m\u001b[0m\u001b[0m\n\u001b[0m",
            "\u001b[1;32m<ipython-input-73-befd80412f8b>\u001b[0m in \u001b[0;36minner\u001b[1;34m(*args)\u001b[0m\n\u001b[0;32m      5\u001b[0m             \u001b[1;32mfor\u001b[0m \u001b[0mi\u001b[0m\u001b[1;33m,\u001b[0m \u001b[0mj\u001b[0m \u001b[1;32min\u001b[0m \u001b[0mzip\u001b[0m\u001b[1;33m(\u001b[0m\u001b[0margs\u001b[0m\u001b[1;33m,\u001b[0m \u001b[0mtypes\u001b[0m\u001b[1;33m)\u001b[0m\u001b[1;33m:\u001b[0m\u001b[1;33m\u001b[0m\u001b[1;33m\u001b[0m\u001b[0m\n\u001b[0;32m      6\u001b[0m                 \u001b[1;32mif\u001b[0m \u001b[1;32mnot\u001b[0m \u001b[0misinstance\u001b[0m\u001b[1;33m(\u001b[0m\u001b[0mi\u001b[0m\u001b[1;33m,\u001b[0m\u001b[0mj\u001b[0m\u001b[1;33m)\u001b[0m\u001b[1;33m:\u001b[0m\u001b[1;33m\u001b[0m\u001b[1;33m\u001b[0m\u001b[0m\n\u001b[1;32m----> 7\u001b[1;33m                     \u001b[1;32mraise\u001b[0m \u001b[0mTypeError\u001b[0m\u001b[1;33m(\u001b[0m\u001b[1;34m\"Переданы аргументы не тех типов\"\u001b[0m\u001b[1;33m)\u001b[0m\u001b[1;33m\u001b[0m\u001b[1;33m\u001b[0m\u001b[0m\n\u001b[0m\u001b[0;32m      8\u001b[0m             \u001b[1;32mreturn\u001b[0m \u001b[0mfunc\u001b[0m\u001b[1;33m(\u001b[0m\u001b[1;33m*\u001b[0m\u001b[0margs\u001b[0m\u001b[1;33m)\u001b[0m\u001b[1;33m\u001b[0m\u001b[1;33m\u001b[0m\u001b[0m\n\u001b[0;32m      9\u001b[0m         \u001b[1;32mreturn\u001b[0m \u001b[0minner\u001b[0m\u001b[1;33m\u001b[0m\u001b[1;33m\u001b[0m\u001b[0m\n",
            "\u001b[1;31mTypeError\u001b[0m: Переданы аргументы не тех типов"
          ]
        }
      ]
    }
  ]
}