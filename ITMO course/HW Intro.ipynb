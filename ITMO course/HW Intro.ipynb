{
 "cells": [
  {
   "cell_type": "markdown",
   "metadata": {},
   "source": [
    "### Ten Green Bottles\n",
    "\n",
    "Напишите программу, которая выводит на экран текст песни “Ten Green Bottles”:<br>\n",
    "Ten green bottles hanging on the wall,<br>\n",
    "Ten green bottles hanging on the wall,<br>\n",
    "And if one green bottle should accidentally fall, <br>\n",
    "There’ll be nine green bottles hanging on the wall. <br>\n",
    "Nine green bottles hanging on the wall, <br>\n",
    "Nine green bottles hanging on the wall, <br>\n",
    "And if one green bottle should accidentally fall, <br>\n",
    "There’ll be eight green bottles hanging on the wall. <br>\n",
    "... <br>\n",
    "One green bottle hanging on the wall, <br>\n",
    "One green bottle hanging on the wall, <br>\n",
    "If that one green bottle should accidentally fall There’ll be no green bottles hanging on the wall. <br>\n",
    "\n",
    "\n",
    "Постарайтесь написать программу так, чтобы в ней было как можно меньше “сырого текста”. <br>\n",
    "\n",
    "Напоминаю, что можно заводить переменные-счетчики, например, так:\n",
    "```\n",
    "i = 0\n",
    "j = 0\n",
    "while i < 10 and j < 20:\n",
    "    i += 1\n",
    "    j += 2\n",
    "```"
   ]
  },
  {
   "cell_type": "code",
   "execution_count": 24,
   "metadata": {},
   "outputs": [
    {
     "name": "stdout",
     "output_type": "stream",
     "text": [
      "Hello world\n"
     ]
    }
   ],
   "source": [
    "# для вывода можно использовать функцию print:\n",
    "print(\"Hello world\")"
   ]
  },
  {
   "cell_type": "code",
   "execution_count": 7,
   "metadata": {},
   "outputs": [],
   "source": [
    "# объявим функцию, которая ничего не возвращает и не принимает в качестве аргументов\n",
    "def ten_green_bottles():\n",
    "    numwords = ['ten', 'nine', 'eight', 'seven', 'six', 'five', 'four', 'three', 'two', 'one', 'none']\n",
    "    i = 0\n",
    "    while i < 9:\n",
    "        b = str.capitalize(numwords[i] +' green bottles hanging on the wall,')\n",
    "        a = 'And if one green bottle should accidentally fall,'\n",
    "        print(b + \"\\n\" + b)\n",
    "        print(a)\n",
    "        if i != 8:\n",
    "           print(\"There’ll be \" + numwords[i + 1] + \" green bottles hanging on the wall.\")\n",
    "        else:\n",
    "           print(\"There’ll be \" + numwords[i + 1] + \" green bottle hanging on the wall.\")\n",
    "        i += 1\n",
    "    e = 'One green bottle hanging on the wall,'\n",
    "    print(e + \"\\n\" + e)\n",
    "    print('If that one green bottle should accidentally fall There’ll be no green bottles hanging on the wall.')\n"
   ]
  },
  {
   "cell_type": "code",
   "execution_count": 8,
   "metadata": {},
   "outputs": [
    {
     "name": "stdout",
     "output_type": "stream",
     "text": [
      "Ten green bottles hanging on the wall,\n",
      "Ten green bottles hanging on the wall,\n",
      "And if one green bottle should accidentally fall,\n",
      "There’ll be nine green bottles hanging on the wall.\n",
      "Nine green bottles hanging on the wall,\n",
      "Nine green bottles hanging on the wall,\n",
      "And if one green bottle should accidentally fall,\n",
      "There’ll be eight green bottles hanging on the wall.\n",
      "Eight green bottles hanging on the wall,\n",
      "Eight green bottles hanging on the wall,\n",
      "And if one green bottle should accidentally fall,\n",
      "There’ll be seven green bottles hanging on the wall.\n",
      "Seven green bottles hanging on the wall,\n",
      "Seven green bottles hanging on the wall,\n",
      "And if one green bottle should accidentally fall,\n",
      "There’ll be six green bottles hanging on the wall.\n",
      "Six green bottles hanging on the wall,\n",
      "Six green bottles hanging on the wall,\n",
      "And if one green bottle should accidentally fall,\n",
      "There’ll be five green bottles hanging on the wall.\n",
      "Five green bottles hanging on the wall,\n",
      "Five green bottles hanging on the wall,\n",
      "And if one green bottle should accidentally fall,\n",
      "There’ll be four green bottles hanging on the wall.\n",
      "Four green bottles hanging on the wall,\n",
      "Four green bottles hanging on the wall,\n",
      "And if one green bottle should accidentally fall,\n",
      "There’ll be three green bottles hanging on the wall.\n",
      "Three green bottles hanging on the wall,\n",
      "Three green bottles hanging on the wall,\n",
      "And if one green bottle should accidentally fall,\n",
      "There’ll be two green bottles hanging on the wall.\n",
      "Two green bottles hanging on the wall,\n",
      "Two green bottles hanging on the wall,\n",
      "And if one green bottle should accidentally fall,\n",
      "There’ll be one green bottle hanging on the wall.\n",
      "One green bottle hanging on the wall,\n",
      "One green bottle hanging on the wall,\n",
      "If that one green bottle should accidentally fall There’ll be no green bottles hanging on the wall.\n"
     ]
    }
   ],
   "source": [
    "# вызовем нашу функцию, чтобы проверить, что будет выведено \n",
    "ten_green_bottles()"
   ]
  },
  {
   "cell_type": "markdown",
   "metadata": {},
   "source": [
    "### remove_adjacent\n",
    "Функция принимает на вход список чисел.\n",
    "Возвращает новый список, равный исходному, если бы из него удалили одинаковые смежные числа.\n",
    "\n",
    "Пример: \n",
    "\n",
    "Входной список чисел: `[1, 2, 3, 3, 3, 2, 1, 1]`\n",
    "\n",
    "Результат: `[1, 2, 3, 2, 1]`"
   ]
  },
  {
   "cell_type": "code",
   "execution_count": 3,
   "metadata": {},
   "outputs": [],
   "source": [
    "# все, что находится за символом '#' -- комментарии и исполняться не будет\n",
    "\n",
    "# объявляем функцию, которая принимает один аргумент\n",
    "# ожидается, что этот аргумент -- список\n",
    "def remove_adjacent(input_list):\n",
    "    previous = None\n",
    "    new_lst = []\n",
    "\n",
    "    for i in input_list:\n",
    "        if i != previous:\n",
    "            new_lst.append(i)\n",
    "            previous = i\n",
    "    return(new_lst)"
   ]
  },
  {
   "cell_type": "code",
   "execution_count": 4,
   "metadata": {},
   "outputs": [
    {
     "data": {
      "text/plain": [
       "[1, 2, 3, 2, 1]"
      ]
     },
     "execution_count": 4,
     "metadata": {},
     "output_type": "execute_result"
    }
   ],
   "source": [
    "# посмотрим, что возвращает наша функция \n",
    "remove_adjacent([1, 2, 3, 3, 3, 2, 1, 1])"
   ]
  },
  {
   "cell_type": "code",
   "execution_count": 5,
   "metadata": {},
   "outputs": [
    {
     "name": "stdout",
     "output_type": "stream",
     "text": [
      "Ok\n"
     ]
    }
   ],
   "source": [
    "# протестируем, что все работает и на других примерах\n",
    "# если что-то идет не так, то бросим исключение\n",
    "input_list = [1, 3, 10, 10, -1, 2, 3, 123, 123, 123, 123, 123]\n",
    "expected = [1, 3, 10, -1, 2, 3, 123]\n",
    "\n",
    "# в идеале код должен работать без ошибок и вывести 'Ok' в конце\n",
    "for exp, act in zip(expected, remove_adjacent(input_list)):\n",
    "        if exp != act:\n",
    "            raise ValueError(\"Something went wrong :c\")\n",
    "print(\"Ok\")"
   ]
  },
  {
   "cell_type": "markdown",
   "metadata": {},
   "source": [
    "### linear_merge\n",
    "\n",
    "Объедините два отсортированных в порядке возрастания списка  в один, при этом сохранив порядок. \n",
    "\n",
    "__Крайне желательно сделать это за линейное время, но не обязательно, если не понятно кто такое линейное время.__\n",
    "\n",
    "В этом задании нельзя итерироваться по элементам (for i in your_list) - обращайтесь к элементам листов через индексы.\n",
    "\n",
    "\n",
    "Например:\n",
    "\n",
    "Вход: \n",
    "- `[1, 2, 5, 10, 15]`\n",
    "- `[1, 3, 7]`\n",
    "\n",
    "\n",
    "Результат:\n",
    "`[1, 1, 2, 3, 5, 7, 10, 15]`\n"
   ]
  },
  {
   "cell_type": "code",
   "execution_count": 3,
   "metadata": {},
   "outputs": [],
   "source": [
    "# функция принимает два аргумента \n",
    "# из функции обязательно нужно вернуть результат: объединенный\n",
    "# список\n",
    "def merge_lists(lst1, lst2):\n",
    "    l1 = len(lst1)\n",
    "    l2 = len(lst2)\n",
    "    \n",
    "    newlist = []\n",
    "    i, j = 0, 0 \n",
    "    \n",
    "    while i < l1 and j < l2:\n",
    "        if lst1[i] < lst2[j]:\n",
    "            newlist.append(lst1[i])\n",
    "            i+=1\n",
    "        else:\n",
    "            newlist.append(lst2[j])\n",
    "            j+=1\n",
    "    newlist.extend(lst1[i:] + lst2[j:])\n",
    "    return newlist   "
   ]
  },
  {
   "cell_type": "code",
   "execution_count": 4,
   "metadata": {},
   "outputs": [
    {
     "data": {
      "text/plain": [
       "[1, 1, 2, 3, 5, 7, 10, 15]"
      ]
     },
     "execution_count": 4,
     "metadata": {},
     "output_type": "execute_result"
    }
   ],
   "source": [
    "# проверяем что выводит наша функция\n",
    "merge_lists([1, 2, 5, 10, 15], [1, 3, 7])"
   ]
  },
  {
   "cell_type": "code",
   "execution_count": 7,
   "metadata": {},
   "outputs": [
    {
     "name": "stdout",
     "output_type": "stream",
     "text": [
      "Ok\n"
     ]
    }
   ],
   "source": [
    "# тестируем на новом входе\n",
    "inp1 = [-1, 2, 7, 100, 150, 150]\n",
    "inp2 = [5, 5, 5]\n",
    "\n",
    "# ожидаемый результат\n",
    "expected = [-1, 2, 5, 5, 5, 7, 100, 150, 150]\n",
    "\n",
    "# в идеале код должен работать без ошибок и вывести 'Ok' в конце\n",
    "for exp, act in zip(expected, merge_lists(inp1, inp2)):\n",
    "    if exp != act:\n",
    "        raise ValueError(\"Something went wrong :c\")\n",
    "\n",
    "# обратите внимание, что исходные списки не должны меняться, это тоже проверяем\n",
    "for exp, act in zip(inp1, inp1):\n",
    "    if exp != act:\n",
    "        raise ValueError(\"Something went wrong :c\")\n",
    "\n",
    "for exp, act in zip(inp2, inp2):\n",
    "    if exp != act:\n",
    "        raise ValueError(\"Something went wrong :c\")\n",
    "        \n",
    "print(\"Ok\")"
   ]
  },
  {
   "cell_type": "markdown",
   "metadata": {},
   "source": [
    "### Словарь\n",
    "Вам дан словарь вида:\n",
    "```\n",
    "{\n",
    "'apple': ['malum', 'popula'],\n",
    "'fruit': ['baca'],\n",
    "'punishment': ['malum', 'multa']\n",
    "}\n",
    "```\n",
    "\n",
    "Необходимо получить из него словарь вида:\n",
    "```\n",
    "{\n",
    "'malum': ['apple', 'punishment'],\n",
    "'baca': ['fruit'],\n",
    "'popula': ['apple'],\n",
    "'multa': ['punishment']\n",
    "}\n",
    "```"
   ]
  },
  {
   "cell_type": "code",
   "execution_count": 8,
   "metadata": {},
   "outputs": [],
   "source": [
    "# функция, которая принимает один аргумент -- словарь\n",
    "def invert_dict(old_dict):\n",
    "    newdict = {}\n",
    "    for key in old_dict:\n",
    "        for value in old_dict[key]:\n",
    "            newdict.setdefault(value, []).append(key)\n",
    "    return newdict"
   ]
  },
  {
   "cell_type": "code",
   "execution_count": 33,
   "metadata": {},
   "outputs": [
    {
     "data": {
      "text/plain": [
       "{'malum': ['apple', 'punishment'],\n",
       " 'popula': ['apple'],\n",
       " 'baca': ['fruit'],\n",
       " 'multa': ['punishment']}"
      ]
     },
     "execution_count": 33,
     "metadata": {},
     "output_type": "execute_result"
    }
   ],
   "source": [
    "# вызовем функцию, чтобы проверить, что все работает правильно\n",
    "invert_dict({\n",
    "'apple': ['malum', 'popula'],\n",
    "'fruit': ['baca'],\n",
    "'punishment': ['malum', 'multa']\n",
    "})"
   ]
  },
  {
   "cell_type": "code",
   "execution_count": 34,
   "metadata": {},
   "outputs": [
    {
     "data": {
      "text/plain": [
       "{'duda': ['elephant', 'door'],\n",
       " 'alboni': ['elephant'],\n",
       " 'balca': ['key'],\n",
       " 'delini': ['key', 'door'],\n",
       " 'pronc': ['key', 'door']}"
      ]
     },
     "execution_count": 34,
     "metadata": {},
     "output_type": "execute_result"
    }
   ],
   "source": [
    "# и еще разок:\n",
    "invert_dict({\n",
    "    'elephant': ['duda', 'alboni'],\n",
    "    'key': ['balca', 'delini', 'pronc'],\n",
    "    'door': ['duda', 'delini', 'pronc']\n",
    "})\n",
    "# ожидаем получить:\n",
    "# {'duda': ['elephant', 'door'],\n",
    "#  'alboni': ['elephant'],\n",
    "#  'balca': ['key'],\n",
    "#  'delini': ['key', 'door'],\n",
    "#  'pronc': ['key', 'door']}"
   ]
  },
  {
   "cell_type": "markdown",
   "metadata": {},
   "source": [
    "### Гипотеза Коллатца\n",
    "\n",
    "Напишите программу, которая получает из консоли число и проверяет, что для этого числа верна гипотеза Коллатца. \n",
    "\n",
    "Эта гипотеза состоит в следующем: Возьмем произволное число n. Если оно четно (нацело делится на два, т.е. остаток от деления  на 2 равен 0), заменим его на `n / 2`, если нет, то заменим его на `3n + 1`. К полученному числу применим те же действия, и так далее, пока не получим число 1. \n",
    "\n",
    "\n",
    "Например, для числа 3 получим такую цепочку преобразований: 3 -> 10 -> 5 -> 16 -> 8 -> 4 -> 2 -> 1.\n",
    "\n",
    "Программа также должна выводить цепочку преобразований.\n",
    "\n",
    "Для считывания из консоли можно воспользоваться функцией input, пример ниже"
   ]
  },
  {
   "cell_type": "code",
   "execution_count": 30,
   "metadata": {},
   "outputs": [
    {
     "name": "stdout",
     "output_type": "stream",
     "text": [
      "50\n",
      "Oh, you typed number 50. I'm so proud of you!\n",
      "<class 'str'>\n",
      "<class 'int'>\n"
     ]
    }
   ],
   "source": [
    "x = input()\n",
    "# обратите внимание, что в print передан второй аргумент end='' для того, чтобы\n",
    "# print не печатал переносы строк\n",
    "print(f\"Oh, you typed number {x}. \", end='')\n",
    "print(\"I'm so proud of you!\")\n",
    "\n",
    "# обратите также внимание, что даже если вы ввели число, x все равно будет строкой\n",
    "print(type(x))\n",
    "\n",
    "# чтобы работать с ним как с числом, необходимо привести его к числовому типу, например,\n",
    "# к целочисленному типу int:\n",
    "x = int(x)\n",
    "print(type(x))"
   ]
  },
  {
   "cell_type": "code",
   "execution_count": 9,
   "metadata": {},
   "outputs": [],
   "source": [
    "# снова определяем функцию :)\n",
    "def kollatz_hypothesis():\n",
    "    n = int(input())\n",
    "    while n != 1: \n",
    "        if n % 2 !=0:\n",
    "            print(f\" {int(n)} -> \", end=\"\")\n",
    "            n = n * 3 + 1\n",
    "        else:\n",
    "            print(f\" {int(n)} -> \", end=\"\")\n",
    "            n = n / 2\n",
    "    print(int(n))\n",
    "                "
   ]
  },
  {
   "cell_type": "code",
   "execution_count": 99,
   "metadata": {},
   "outputs": [
    {
     "name": "stdout",
     "output_type": "stream",
     "text": [
      "3\n",
      " 3 ->  10 ->  5 ->  16 ->  8 ->  4 ->  2 -> 1\n"
     ]
    }
   ],
   "source": [
    "# вызываем функцию, она должна дождаться ввода пользователя:\n",
    "kollatz_hypothesis()"
   ]
  }
 ],
 "metadata": {
  "kernelspec": {
   "display_name": "Python 3",
   "language": "python",
   "name": "python3"
  },
  "language_info": {
   "codemirror_mode": {
    "name": "ipython",
    "version": 3
   },
   "file_extension": ".py",
   "mimetype": "text/x-python",
   "name": "python",
   "nbconvert_exporter": "python",
   "pygments_lexer": "ipython3",
   "version": "3.7.4"
  }
 },
 "nbformat": 4,
 "nbformat_minor": 2
}
